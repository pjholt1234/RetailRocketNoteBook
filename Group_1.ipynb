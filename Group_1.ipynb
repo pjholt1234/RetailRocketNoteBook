{
  "nbformat": 4,
  "nbformat_minor": 0,
  "metadata": {
    "kernelspec": {
      "language": "python",
      "display_name": "Python 3",
      "name": "python3"
    },
    "language_info": {
      "pygments_lexer": "ipython3",
      "nbconvert_exporter": "python",
      "version": "3.6.4",
      "file_extension": ".py",
      "codemirror_mode": {
        "name": "ipython",
        "version": 3
      },
      "name": "python",
      "mimetype": "text/x-python"
    },
    "colab": {
      "name": "Group 1.ipynb",
      "provenance": [],
      "collapsed_sections": [
        "0AtCDw71GAOL"
      ],
      "toc_visible": true
    }
  },
  "cells": [
    {
      "cell_type": "markdown",
      "metadata": {
        "id": "KC5tUbNmipi-"
      },
      "source": [
        "#Introduction\n",
        "\n",
        "The objective of this project is to explore solutions to solve business intelligence and data mining problems. The specific problems in this case being:\n",
        "\n",
        "•\tData exploration, pre-processing, and visualization.\n",
        "\n",
        "•\tCustomer behaviour analysis and Customer Segmentation. \n",
        "\n",
        "•\tBuild a shopping recommender system. \n",
        "\n",
        "•\tEvaluate the recommender system that you have implemented. \n",
        "\n",
        "\n",
        "Through the process of this project we hope to \"meet\" the learning outcomes \n",
        "which are as follows: \n",
        "\n",
        "•\t Demonstrate an understanding of the concepts of machine learning, data mining and business intelligence and its relevant theory and techniques.\n",
        "\n",
        "•\tPresent the leading data mining methods and their applications to real-world problems.\n",
        "\n",
        "•\tDevelop both the theoretical and practical skills needed to reveal patterns and valuable information hidden in large data sets.\n",
        "\n",
        "•\tEvaluate critically the outputs from data mining research and speak meaningfully to the usefulness of such data outputs in business context.\n",
        "\n",
        "We hope to complete the 4 main sections of the assignment; showing multiple ways of data exploration and data visualization; A number of recommender systems, using different methods and various ways of evaluating them."
      ]
    },
    {
      "cell_type": "markdown",
      "metadata": {
        "id": "fvBF8D8wit4s"
      },
      "source": [
        "#Materials and Methods"
      ]
    },
    {
      "cell_type": "markdown",
      "metadata": {
        "id": "4eHgbJnckoSm"
      },
      "source": [
        "##Dataset\n",
        "The dataset used is the \"Retailrocket recommender system dataset\", this \"consists of three files: a file with behaviour data (events.csv), a file with item properties (itemproperties.сsv) and a file, which describes category tree (categorytree.сsv). The data has been collected from a real-world ecommerce website. It is raw data, i.e. without any content transformations, however, all values are hashed due to confidential issues\" (RetailRocket, 2017).\n"
      ]
    },
    {
      "cell_type": "markdown",
      "metadata": {
        "id": "U-PgSlMVk4R6"
      },
      "source": [
        "##Methods\n"
      ]
    },
    {
      "cell_type": "markdown",
      "metadata": {
        "id": "EE8fmx-0h-de"
      },
      "source": [
        "**Data Exploration**\n",
        "*   Viewing Data Through Excel.\n",
        "*   Checking data for Missing Values.\n",
        "*   Viewing Data format and composition using .describe and .head.\n",
        "\n",
        "**Pre-Processing**\n",
        "*   Check for missing values and noise.\n",
        "*   Change Timestamp Data to time and date.\n",
        "*   Check for categorical data.\n",
        "*   Check if feature scaling is needed.\n",
        "*   Plot Graphs or Charts to visualize data\n",
        "*   Check if other pre-processing steps are needed\n",
        "\n",
        "**Customer Segmentation**\n",
        "*   Find underlying factors that differentiate or show similarities between the customers.\n",
        "*   Validate whether the hypothesis is correct with a more critical and specific approach.\n",
        "*   Make conclusions, define the customer group, using: the evidence gathered from data and analytical thinking.\n",
        "\n",
        "\n",
        "**Building the recommender**\n",
        "*   Using the category data to develop recommendations based on simliar popular products within a given category\n",
        "*   Using the customer segmentation to develop recommendations based on what similiar customers have bought\n",
        "*   Using Aprori algorithm to find rules and relationships between items purchased which inform recommendations\n",
        "*   Using lightfm to develop a model of ratings based on user-item interactions.\n",
        "\n",
        "**Evaluating the Recommender**\n",
        "*  Area Under The Curve\n",
        "*  Precision at k "
      ]
    },
    {
      "cell_type": "markdown",
      "metadata": {
        "id": "cKUQ0kqSlHaX"
      },
      "source": [
        "#Data Exploration-subtask1"
      ]
    },
    {
      "cell_type": "markdown",
      "metadata": {
        "id": "_gLzW9ynnyl8"
      },
      "source": [
        "##The goal\n",
        "Data exploration helps create a more straightforward view of datasets rather than pouring over thousands of figures in unstructured data, this will help streamline later requirements.\n"
      ]
    },
    {
      "cell_type": "markdown",
      "metadata": {
        "id": "g0DrTMSF9qKf"
      },
      "source": [
        "Before exploring the data using Python code, we opened the .csv's using excel and read the attached read me file contained with the data. \n",
        "\n",
        "\n",
        "**Events**\n",
        "The readme and the excel file revealed that the events csv contains a unix time stamp, this will need to be processed, additionally the file contains information on when visitors added items to their cart, viewed or purchased items. There is a transaction field which is empty where a view or addtocart event took place.\n",
        "\n",
        "**category_tree**\n",
        "The file appears to contain a categoryId and parentid, according to the documentation, the category tree file has 1669 rows. Every row in the file specifies a child categoryId and the corresponding parent.\n",
        "\n",
        "**item_properties**\n",
        "According to the documentation the item_properties_part1 and item_properties_part2 are linked, these will need to be merged. According to the documentation the file is grouped into snapshots to reduce the number of rows. Additionally, some of the values have been hashed for privacy reasons, this may be irreversible. \n",
        "\n"
      ]
    },
    {
      "cell_type": "markdown",
      "metadata": {
        "id": "IbtvSFXHhxmr"
      },
      "source": [
        "Now lets explore the data using Python code and see what we will discover."
      ]
    },
    {
      "cell_type": "markdown",
      "metadata": {
        "id": "kGXDPp6yn2Rg"
      },
      "source": [
        "##The code"
      ]
    },
    {
      "cell_type": "code",
      "metadata": {
        "id": "U7suFeKdFWh5",
        "colab": {
          "base_uri": "https://localhost:8080/"
        },
        "outputId": "5a967899-7234-4cf8-f3fb-6caff4b764f1"
      },
      "source": [
        "import numpy as np # linear algebra\n",
        "import pandas as pd # data processing, handling CSV files, input and output. usage: pd.read_csv()\n",
        "import matplotlib.pyplot as plt #for data visualisation\n",
        "import datetime #libaries used to display timestamps\n",
        "import matplotlib.dates as mdates\n",
        "\n",
        "import random\n",
        "import seaborn as sns #library for data visualisation\n",
        "from sklearn.model_selection import train_test_split\n",
        "from sklearn.linear_model import LogisticRegression\n",
        "from sklearn import metrics\n",
        "import os\n",
        "from mpl_toolkits.mplot3d import Axes3D #for plotting\n",
        "from sklearn.preprocessing import StandardScaler\n",
        "import collections # for removing duplicate values from array\n",
        "\n",
        "from mlxtend.preprocessing import TransactionEncoder\n",
        "from mlxtend.frequent_patterns import apriori, association_rules\n",
        "\n",
        "#lightfm\n",
        "!pip install lightfm\n",
        "from lightfm import LightFM\n",
        "from lightfm.evaluation import auc_score, precision_at_k\n",
        "from scipy.sparse import coo_matrix\n",
        "from sklearn import preprocessing\n"
      ],
      "execution_count": null,
      "outputs": [
        {
          "output_type": "stream",
          "text": [
            "Requirement already satisfied: lightfm in /usr/local/lib/python3.7/dist-packages (1.16)\n",
            "Requirement already satisfied: scikit-learn in /usr/local/lib/python3.7/dist-packages (from lightfm) (0.22.2.post1)\n",
            "Requirement already satisfied: scipy>=0.17.0 in /usr/local/lib/python3.7/dist-packages (from lightfm) (1.4.1)\n",
            "Requirement already satisfied: requests in /usr/local/lib/python3.7/dist-packages (from lightfm) (2.23.0)\n",
            "Requirement already satisfied: numpy in /usr/local/lib/python3.7/dist-packages (from lightfm) (1.19.5)\n",
            "Requirement already satisfied: joblib>=0.11 in /usr/local/lib/python3.7/dist-packages (from scikit-learn->lightfm) (1.0.1)\n",
            "Requirement already satisfied: idna<3,>=2.5 in /usr/local/lib/python3.7/dist-packages (from requests->lightfm) (2.10)\n",
            "Requirement already satisfied: certifi>=2017.4.17 in /usr/local/lib/python3.7/dist-packages (from requests->lightfm) (2020.12.5)\n",
            "Requirement already satisfied: chardet<4,>=3.0.2 in /usr/local/lib/python3.7/dist-packages (from requests->lightfm) (3.0.4)\n",
            "Requirement already satisfied: urllib3!=1.25.0,!=1.25.1,<1.26,>=1.21.1 in /usr/local/lib/python3.7/dist-packages (from requests->lightfm) (1.24.3)\n"
          ],
          "name": "stdout"
        }
      ]
    },
    {
      "cell_type": "code",
      "metadata": {
        "id": "5TbYN944qbFq"
      },
      "source": [
        "#loading data\n",
        "data_events = pd.read_csv('events.csv')\n",
        "data_categorytree = pd.read_csv('category_tree.csv')\n",
        "data_itempropertiespart1 = pd.read_csv('item_properties_part1.csv')\n",
        "data_itempropertiespart2 = pd.read_csv('item_properties_part2.csv')"
      ],
      "execution_count": null,
      "outputs": []
    },
    {
      "cell_type": "markdown",
      "metadata": {
        "id": "TYFP-DsDnBRz"
      },
      "source": [
        "### Categorical Data"
      ]
    },
    {
      "cell_type": "code",
      "metadata": {
        "id": "hlxzvV1tnhNK",
        "colab": {
          "base_uri": "https://localhost:8080/"
        },
        "outputId": "04ea3a21-1acf-4929-d1bb-bb4fd6baa71f"
      },
      "source": [
        "data_events.info() \n",
        "data_categorytree.info()\n",
        "data_itempropertiespart1.info()\n",
        "data_itempropertiespart2.info()"
      ],
      "execution_count": null,
      "outputs": [
        {
          "output_type": "stream",
          "text": [
            "<class 'pandas.core.frame.DataFrame'>\n",
            "RangeIndex: 2756101 entries, 0 to 2756100\n",
            "Data columns (total 5 columns):\n",
            " #   Column         Dtype  \n",
            "---  ------         -----  \n",
            " 0   timestamp      int64  \n",
            " 1   visitorid      int64  \n",
            " 2   event          object \n",
            " 3   itemid         int64  \n",
            " 4   transactionid  float64\n",
            "dtypes: float64(1), int64(3), object(1)\n",
            "memory usage: 105.1+ MB\n",
            "<class 'pandas.core.frame.DataFrame'>\n",
            "RangeIndex: 1669 entries, 0 to 1668\n",
            "Data columns (total 2 columns):\n",
            " #   Column      Non-Null Count  Dtype  \n",
            "---  ------      --------------  -----  \n",
            " 0   categoryid  1669 non-null   int64  \n",
            " 1   parentid    1644 non-null   float64\n",
            "dtypes: float64(1), int64(1)\n",
            "memory usage: 26.2 KB\n",
            "<class 'pandas.core.frame.DataFrame'>\n",
            "RangeIndex: 10999999 entries, 0 to 10999998\n",
            "Data columns (total 4 columns):\n",
            " #   Column     Dtype \n",
            "---  ------     ----- \n",
            " 0   timestamp  int64 \n",
            " 1   itemid     int64 \n",
            " 2   property   object\n",
            " 3   value      object\n",
            "dtypes: int64(2), object(2)\n",
            "memory usage: 335.7+ MB\n",
            "<class 'pandas.core.frame.DataFrame'>\n",
            "RangeIndex: 9275903 entries, 0 to 9275902\n",
            "Data columns (total 4 columns):\n",
            " #   Column     Dtype \n",
            "---  ------     ----- \n",
            " 0   timestamp  int64 \n",
            " 1   itemid     int64 \n",
            " 2   property   object\n",
            " 3   value      object\n",
            "dtypes: int64(2), object(2)\n",
            "memory usage: 283.1+ MB\n"
          ],
          "name": "stdout"
        }
      ]
    },
    {
      "cell_type": "markdown",
      "metadata": {
        "id": "g5cGgOJQoR_h"
      },
      "source": [
        "In events, the column named event only contains categorical data.\n",
        "In the item properties csvs, in the column property, some of the data is categorical."
      ]
    },
    {
      "cell_type": "markdown",
      "metadata": {
        "id": "v_-XGMSJW6Bp"
      },
      "source": [
        "### Data Cleaning"
      ]
    },
    {
      "cell_type": "markdown",
      "metadata": {
        "id": "Uhu7JwvaXMKv"
      },
      "source": [
        "Checking if there are missing values in each file"
      ]
    },
    {
      "cell_type": "code",
      "metadata": {
        "id": "PuIsIv83WywO",
        "colab": {
          "base_uri": "https://localhost:8080/"
        },
        "outputId": "cbebfee7-e15d-4446-bca3-2ee169627fb0"
      },
      "source": [
        "data_categorytree.isnull().sum()"
      ],
      "execution_count": null,
      "outputs": [
        {
          "output_type": "execute_result",
          "data": {
            "text/plain": [
              "categoryid     0\n",
              "parentid      25\n",
              "dtype: int64"
            ]
          },
          "metadata": {
            "tags": []
          },
          "execution_count": 17
        }
      ]
    },
    {
      "cell_type": "markdown",
      "metadata": {
        "id": "2JxpBCqrXaXc"
      },
      "source": [
        "The column \"parentid\" in file \"category_tree.csv\" has 25 missing values. The three options of what do  when there are missing values:\n",
        "\n",
        "\n",
        "\n",
        "*   Get rid of corresponding districts\n",
        "*   Get rid of the whole attribute\n",
        "*   Set the values to some value\n",
        "\n",
        "(Gereon, 2019)\n",
        "\n",
        "However, the column represent an id so we cannot remove the attribute or fill it ourselves."
      ]
    },
    {
      "cell_type": "code",
      "metadata": {
        "id": "iAS3wl5AXOtL",
        "colab": {
          "base_uri": "https://localhost:8080/"
        },
        "outputId": "97e3ea3e-e345-4a78-f95d-1e78e6e8a95d"
      },
      "source": [
        "data_events.isnull().sum()"
      ],
      "execution_count": null,
      "outputs": [
        {
          "output_type": "execute_result",
          "data": {
            "text/plain": [
              "timestamp              0\n",
              "visitorid              0\n",
              "event                  0\n",
              "itemid                 0\n",
              "transactionid    2733644\n",
              "dtype: int64"
            ]
          },
          "metadata": {
            "tags": []
          },
          "execution_count": 18
        }
      ]
    },
    {
      "cell_type": "markdown",
      "metadata": {
        "id": "_W9QeF4QXi9B"
      },
      "source": [
        "For the \"transactionid\" column in the \"events.csv\" file, we have a lot of missing values. The missing values however correspond to where a transaction did not take place. Meaning that no cleaning needs to occur here."
      ]
    },
    {
      "cell_type": "code",
      "metadata": {
        "id": "fIuGkF49XO0S",
        "colab": {
          "base_uri": "https://localhost:8080/"
        },
        "outputId": "4e0ca8e7-0fe8-4c5b-831d-6f45e34e80c8"
      },
      "source": [
        "data_itempropertiespart1.isnull().sum()"
      ],
      "execution_count": null,
      "outputs": [
        {
          "output_type": "execute_result",
          "data": {
            "text/plain": [
              "timestamp    0\n",
              "itemid       0\n",
              "property     0\n",
              "value        0\n",
              "dtype: int64"
            ]
          },
          "metadata": {
            "tags": []
          },
          "execution_count": 19
        }
      ]
    },
    {
      "cell_type": "code",
      "metadata": {
        "id": "SV_UdtjYXTxE",
        "colab": {
          "base_uri": "https://localhost:8080/"
        },
        "outputId": "69bd4533-07cc-491d-c6c5-e7aa2db7259d"
      },
      "source": [
        "data_itempropertiespart2.isnull().sum()"
      ],
      "execution_count": null,
      "outputs": [
        {
          "output_type": "execute_result",
          "data": {
            "text/plain": [
              "timestamp    0\n",
              "itemid       0\n",
              "property     0\n",
              "value        0\n",
              "dtype: int64"
            ]
          },
          "metadata": {
            "tags": []
          },
          "execution_count": 20
        }
      ]
    },
    {
      "cell_type": "code",
      "metadata": {
        "id": "kYOZbA3aZKvS",
        "colab": {
          "base_uri": "https://localhost:8080/",
          "height": 204
        },
        "outputId": "53c883bc-9762-4514-b8f2-768d1345dfdf"
      },
      "source": [
        "data_categorytree.head()"
      ],
      "execution_count": null,
      "outputs": [
        {
          "output_type": "execute_result",
          "data": {
            "text/html": [
              "<div>\n",
              "<style scoped>\n",
              "    .dataframe tbody tr th:only-of-type {\n",
              "        vertical-align: middle;\n",
              "    }\n",
              "\n",
              "    .dataframe tbody tr th {\n",
              "        vertical-align: top;\n",
              "    }\n",
              "\n",
              "    .dataframe thead th {\n",
              "        text-align: right;\n",
              "    }\n",
              "</style>\n",
              "<table border=\"1\" class=\"dataframe\">\n",
              "  <thead>\n",
              "    <tr style=\"text-align: right;\">\n",
              "      <th></th>\n",
              "      <th>categoryid</th>\n",
              "      <th>parentid</th>\n",
              "    </tr>\n",
              "  </thead>\n",
              "  <tbody>\n",
              "    <tr>\n",
              "      <th>0</th>\n",
              "      <td>1016</td>\n",
              "      <td>213.0</td>\n",
              "    </tr>\n",
              "    <tr>\n",
              "      <th>1</th>\n",
              "      <td>809</td>\n",
              "      <td>169.0</td>\n",
              "    </tr>\n",
              "    <tr>\n",
              "      <th>2</th>\n",
              "      <td>570</td>\n",
              "      <td>9.0</td>\n",
              "    </tr>\n",
              "    <tr>\n",
              "      <th>3</th>\n",
              "      <td>1691</td>\n",
              "      <td>885.0</td>\n",
              "    </tr>\n",
              "    <tr>\n",
              "      <th>4</th>\n",
              "      <td>536</td>\n",
              "      <td>1691.0</td>\n",
              "    </tr>\n",
              "  </tbody>\n",
              "</table>\n",
              "</div>"
            ],
            "text/plain": [
              "   categoryid  parentid\n",
              "0        1016     213.0\n",
              "1         809     169.0\n",
              "2         570       9.0\n",
              "3        1691     885.0\n",
              "4         536    1691.0"
            ]
          },
          "metadata": {
            "tags": []
          },
          "execution_count": 21
        }
      ]
    },
    {
      "cell_type": "markdown",
      "metadata": {
        "id": "inXKhDAIZXFW"
      },
      "source": [
        "We can see the categoryid and parentid's here, perhaps we can combine these with itemid's later."
      ]
    },
    {
      "cell_type": "code",
      "metadata": {
        "id": "Sd_iBy2UZkKN",
        "colab": {
          "base_uri": "https://localhost:8080/",
          "height": 204
        },
        "outputId": "cb3d49b9-949b-4a5f-cfe3-6163c4ab2148"
      },
      "source": [
        "data_events.head()"
      ],
      "execution_count": null,
      "outputs": [
        {
          "output_type": "execute_result",
          "data": {
            "text/html": [
              "<div>\n",
              "<style scoped>\n",
              "    .dataframe tbody tr th:only-of-type {\n",
              "        vertical-align: middle;\n",
              "    }\n",
              "\n",
              "    .dataframe tbody tr th {\n",
              "        vertical-align: top;\n",
              "    }\n",
              "\n",
              "    .dataframe thead th {\n",
              "        text-align: right;\n",
              "    }\n",
              "</style>\n",
              "<table border=\"1\" class=\"dataframe\">\n",
              "  <thead>\n",
              "    <tr style=\"text-align: right;\">\n",
              "      <th></th>\n",
              "      <th>timestamp</th>\n",
              "      <th>visitorid</th>\n",
              "      <th>event</th>\n",
              "      <th>itemid</th>\n",
              "      <th>transactionid</th>\n",
              "    </tr>\n",
              "  </thead>\n",
              "  <tbody>\n",
              "    <tr>\n",
              "      <th>0</th>\n",
              "      <td>1433221332117</td>\n",
              "      <td>257597</td>\n",
              "      <td>view</td>\n",
              "      <td>355908</td>\n",
              "      <td>NaN</td>\n",
              "    </tr>\n",
              "    <tr>\n",
              "      <th>1</th>\n",
              "      <td>1433224214164</td>\n",
              "      <td>992329</td>\n",
              "      <td>view</td>\n",
              "      <td>248676</td>\n",
              "      <td>NaN</td>\n",
              "    </tr>\n",
              "    <tr>\n",
              "      <th>2</th>\n",
              "      <td>1433221999827</td>\n",
              "      <td>111016</td>\n",
              "      <td>view</td>\n",
              "      <td>318965</td>\n",
              "      <td>NaN</td>\n",
              "    </tr>\n",
              "    <tr>\n",
              "      <th>3</th>\n",
              "      <td>1433221955914</td>\n",
              "      <td>483717</td>\n",
              "      <td>view</td>\n",
              "      <td>253185</td>\n",
              "      <td>NaN</td>\n",
              "    </tr>\n",
              "    <tr>\n",
              "      <th>4</th>\n",
              "      <td>1433221337106</td>\n",
              "      <td>951259</td>\n",
              "      <td>view</td>\n",
              "      <td>367447</td>\n",
              "      <td>NaN</td>\n",
              "    </tr>\n",
              "  </tbody>\n",
              "</table>\n",
              "</div>"
            ],
            "text/plain": [
              "       timestamp  visitorid event  itemid  transactionid\n",
              "0  1433221332117     257597  view  355908            NaN\n",
              "1  1433224214164     992329  view  248676            NaN\n",
              "2  1433221999827     111016  view  318965            NaN\n",
              "3  1433221955914     483717  view  253185            NaN\n",
              "4  1433221337106     951259  view  367447            NaN"
            ]
          },
          "metadata": {
            "tags": []
          },
          "execution_count": 22
        }
      ]
    },
    {
      "cell_type": "markdown",
      "metadata": {
        "id": "gvObHc-0ZpFO"
      },
      "source": [
        "The timestamp is in unix, this needs to be converted."
      ]
    },
    {
      "cell_type": "code",
      "metadata": {
        "id": "zUVezddTZw6m",
        "colab": {
          "base_uri": "https://localhost:8080/",
          "height": 204
        },
        "outputId": "ddba25d7-300b-493a-8d9a-2d4870244c97"
      },
      "source": [
        "data_itempropertiespart1.head()"
      ],
      "execution_count": null,
      "outputs": [
        {
          "output_type": "execute_result",
          "data": {
            "text/html": [
              "<div>\n",
              "<style scoped>\n",
              "    .dataframe tbody tr th:only-of-type {\n",
              "        vertical-align: middle;\n",
              "    }\n",
              "\n",
              "    .dataframe tbody tr th {\n",
              "        vertical-align: top;\n",
              "    }\n",
              "\n",
              "    .dataframe thead th {\n",
              "        text-align: right;\n",
              "    }\n",
              "</style>\n",
              "<table border=\"1\" class=\"dataframe\">\n",
              "  <thead>\n",
              "    <tr style=\"text-align: right;\">\n",
              "      <th></th>\n",
              "      <th>timestamp</th>\n",
              "      <th>itemid</th>\n",
              "      <th>property</th>\n",
              "      <th>value</th>\n",
              "    </tr>\n",
              "  </thead>\n",
              "  <tbody>\n",
              "    <tr>\n",
              "      <th>0</th>\n",
              "      <td>1435460400000</td>\n",
              "      <td>460429</td>\n",
              "      <td>categoryid</td>\n",
              "      <td>1338</td>\n",
              "    </tr>\n",
              "    <tr>\n",
              "      <th>1</th>\n",
              "      <td>1441508400000</td>\n",
              "      <td>206783</td>\n",
              "      <td>888</td>\n",
              "      <td>1116713 960601 n277.200</td>\n",
              "    </tr>\n",
              "    <tr>\n",
              "      <th>2</th>\n",
              "      <td>1439089200000</td>\n",
              "      <td>395014</td>\n",
              "      <td>400</td>\n",
              "      <td>n552.000 639502 n720.000 424566</td>\n",
              "    </tr>\n",
              "    <tr>\n",
              "      <th>3</th>\n",
              "      <td>1431226800000</td>\n",
              "      <td>59481</td>\n",
              "      <td>790</td>\n",
              "      <td>n15360.000</td>\n",
              "    </tr>\n",
              "    <tr>\n",
              "      <th>4</th>\n",
              "      <td>1431831600000</td>\n",
              "      <td>156781</td>\n",
              "      <td>917</td>\n",
              "      <td>828513</td>\n",
              "    </tr>\n",
              "  </tbody>\n",
              "</table>\n",
              "</div>"
            ],
            "text/plain": [
              "       timestamp  itemid    property                            value\n",
              "0  1435460400000  460429  categoryid                             1338\n",
              "1  1441508400000  206783         888          1116713 960601 n277.200\n",
              "2  1439089200000  395014         400  n552.000 639502 n720.000 424566\n",
              "3  1431226800000   59481         790                       n15360.000\n",
              "4  1431831600000  156781         917                           828513"
            ]
          },
          "metadata": {
            "tags": []
          },
          "execution_count": 23
        }
      ]
    },
    {
      "cell_type": "code",
      "metadata": {
        "id": "BiQgreseag8q",
        "colab": {
          "base_uri": "https://localhost:8080/",
          "height": 204
        },
        "outputId": "7616e04f-9e12-4d39-89de-86c94067b0ba"
      },
      "source": [
        "data_itempropertiespart2.head()"
      ],
      "execution_count": null,
      "outputs": [
        {
          "output_type": "execute_result",
          "data": {
            "text/html": [
              "<div>\n",
              "<style scoped>\n",
              "    .dataframe tbody tr th:only-of-type {\n",
              "        vertical-align: middle;\n",
              "    }\n",
              "\n",
              "    .dataframe tbody tr th {\n",
              "        vertical-align: top;\n",
              "    }\n",
              "\n",
              "    .dataframe thead th {\n",
              "        text-align: right;\n",
              "    }\n",
              "</style>\n",
              "<table border=\"1\" class=\"dataframe\">\n",
              "  <thead>\n",
              "    <tr style=\"text-align: right;\">\n",
              "      <th></th>\n",
              "      <th>timestamp</th>\n",
              "      <th>itemid</th>\n",
              "      <th>property</th>\n",
              "      <th>value</th>\n",
              "    </tr>\n",
              "  </thead>\n",
              "  <tbody>\n",
              "    <tr>\n",
              "      <th>0</th>\n",
              "      <td>1433041200000</td>\n",
              "      <td>183478</td>\n",
              "      <td>561</td>\n",
              "      <td>769062</td>\n",
              "    </tr>\n",
              "    <tr>\n",
              "      <th>1</th>\n",
              "      <td>1439694000000</td>\n",
              "      <td>132256</td>\n",
              "      <td>976</td>\n",
              "      <td>n26.400 1135780</td>\n",
              "    </tr>\n",
              "    <tr>\n",
              "      <th>2</th>\n",
              "      <td>1435460400000</td>\n",
              "      <td>420307</td>\n",
              "      <td>921</td>\n",
              "      <td>1149317 1257525</td>\n",
              "    </tr>\n",
              "    <tr>\n",
              "      <th>3</th>\n",
              "      <td>1431831600000</td>\n",
              "      <td>403324</td>\n",
              "      <td>917</td>\n",
              "      <td>1204143</td>\n",
              "    </tr>\n",
              "    <tr>\n",
              "      <th>4</th>\n",
              "      <td>1435460400000</td>\n",
              "      <td>230701</td>\n",
              "      <td>521</td>\n",
              "      <td>769062</td>\n",
              "    </tr>\n",
              "  </tbody>\n",
              "</table>\n",
              "</div>"
            ],
            "text/plain": [
              "       timestamp  itemid property            value\n",
              "0  1433041200000  183478      561           769062\n",
              "1  1439694000000  132256      976  n26.400 1135780\n",
              "2  1435460400000  420307      921  1149317 1257525\n",
              "3  1431831600000  403324      917          1204143\n",
              "4  1435460400000  230701      521           769062"
            ]
          },
          "metadata": {
            "tags": []
          },
          "execution_count": 24
        }
      ]
    },
    {
      "cell_type": "markdown",
      "metadata": {
        "id": "k0M3R3X2Z6xL"
      },
      "source": [
        "The value attribute is hashed as described in the documentation, this is could have context about the transaction but is likely difficult to reverse.\n",
        "\n",
        "Some times the property has the value of \"categoryid\" then the value attribute has a number, this could be used to link itemid to categoryid/parentid\n",
        "\n",
        "Since the two item property files have the same structure it is safe to merge them. "
      ]
    },
    {
      "cell_type": "markdown",
      "metadata": {
        "id": "Yyh8iasjn4-4"
      },
      "source": [
        "##The outcomes\n",
        "We found a few empty parentid's but, as discussed, we can't fill these in, the documentation says that this means that these categories don't have parentID's. Additionally, we found alot of empty transaction ID's but, as discussed previously, this is explained as transactionID's aren't required for non-transaction events.\n",
        "\n",
        "The event csv contains 3 different types of \"events\", this means we need to seperate out these 3 events into 3 differnet dataframes.\n",
        "\n",
        "The events and item property csv's all contain unix timestamps, this needs to be converted.\n",
        "\n",
        "We found a categoryid property in the item property file, this can be used to combine the itemid with it's respective categoryid.\n",
        "\n",
        "\n",
        "\n"
      ]
    },
    {
      "cell_type": "markdown",
      "metadata": {
        "id": "P-mQRD75lY9j"
      },
      "source": [
        "#Data pre-processing-subtask1"
      ]
    },
    {
      "cell_type": "markdown",
      "metadata": {
        "id": "Wr9A5rmjMVWx"
      },
      "source": [
        "##The goal\n",
        "\n"
      ]
    },
    {
      "cell_type": "markdown",
      "metadata": {
        "id": "t6aF-HQcFLSn"
      },
      "source": [
        "Steps:\n",
        "\n",
        "1. Merge the two item property dataframes. \n",
        "2. We need to convert all unix timestamps into date and time, this could be useful for further analysis or seeing purchasing patterns.\n",
        "3. Seperate all events into 3 different dataframes addtocart, view and transaction.\n",
        "4. We need to combine the itemid with the category and parentid.\n",
        "5. Check is feature scaling is required.\n"
      ]
    },
    {
      "cell_type": "markdown",
      "metadata": {
        "id": "w3UPKUldNEsa"
      },
      "source": [
        "##The code"
      ]
    },
    {
      "cell_type": "markdown",
      "metadata": {
        "id": "xfTP7eP3di0P"
      },
      "source": [
        "**Merging item properties dataframes**"
      ]
    },
    {
      "cell_type": "code",
      "metadata": {
        "id": "OKwxPCQfdANF"
      },
      "source": [
        "properties=pd.concat([data_itempropertiespart1,data_itempropertiespart2])"
      ],
      "execution_count": null,
      "outputs": []
    },
    {
      "cell_type": "markdown",
      "metadata": {
        "id": "tFgUREtldqDF"
      },
      "source": [
        "Here is a function for converting timestamp for both the properties and events dataframe, as previously discussed the timestamp is expressed in Unix Epoch format. We will use this function later"
      ]
    },
    {
      "cell_type": "code",
      "metadata": {
        "id": "lb_496ZXb9ox",
        "colab": {
          "base_uri": "https://localhost:8080/",
          "height": 204
        },
        "outputId": "d14c14b6-73ef-46b7-c630-f04aa3f012be"
      },
      "source": [
        "#Converting Timestamp in the events dataframe\n",
        "liste=[]\n",
        "#using enumerate to count the ammount timestamp appears in the dataframe\n",
        "for i, unix in enumerate(data_events['timestamp']):\n",
        "  #converting timestamp into datetime format\n",
        "    timestamp, ms = divmod(unix, 1000)\n",
        "\n",
        "    #creating datafarme to hold the date and the time converted from timestamps\n",
        "    dt = datetime.datetime.fromtimestamp(timestamp) + datetime.timedelta(milliseconds=ms)\n",
        "    #making a list that will hold the date and time in the described format\n",
        "    formatted_time = dt.strftime('%Y-%m-%d %H:%M:%S.%f')[:-3]\n",
        "\n",
        "    liste.append(formatted_time)\n",
        "#making another column in the dataframe to hold the dates and times from the list\n",
        "data_events['date_time']=pd.DataFrame({'date_time':liste})\n",
        "data_events.head()"
      ],
      "execution_count": null,
      "outputs": [
        {
          "output_type": "execute_result",
          "data": {
            "text/html": [
              "<div>\n",
              "<style scoped>\n",
              "    .dataframe tbody tr th:only-of-type {\n",
              "        vertical-align: middle;\n",
              "    }\n",
              "\n",
              "    .dataframe tbody tr th {\n",
              "        vertical-align: top;\n",
              "    }\n",
              "\n",
              "    .dataframe thead th {\n",
              "        text-align: right;\n",
              "    }\n",
              "</style>\n",
              "<table border=\"1\" class=\"dataframe\">\n",
              "  <thead>\n",
              "    <tr style=\"text-align: right;\">\n",
              "      <th></th>\n",
              "      <th>timestamp</th>\n",
              "      <th>visitorid</th>\n",
              "      <th>event</th>\n",
              "      <th>itemid</th>\n",
              "      <th>transactionid</th>\n",
              "      <th>date_time</th>\n",
              "    </tr>\n",
              "  </thead>\n",
              "  <tbody>\n",
              "    <tr>\n",
              "      <th>0</th>\n",
              "      <td>1433221332117</td>\n",
              "      <td>257597</td>\n",
              "      <td>view</td>\n",
              "      <td>355908</td>\n",
              "      <td>NaN</td>\n",
              "      <td>2015-06-02 05:02:12.117</td>\n",
              "    </tr>\n",
              "    <tr>\n",
              "      <th>1</th>\n",
              "      <td>1433224214164</td>\n",
              "      <td>992329</td>\n",
              "      <td>view</td>\n",
              "      <td>248676</td>\n",
              "      <td>NaN</td>\n",
              "      <td>2015-06-02 05:50:14.164</td>\n",
              "    </tr>\n",
              "    <tr>\n",
              "      <th>2</th>\n",
              "      <td>1433221999827</td>\n",
              "      <td>111016</td>\n",
              "      <td>view</td>\n",
              "      <td>318965</td>\n",
              "      <td>NaN</td>\n",
              "      <td>2015-06-02 05:13:19.827</td>\n",
              "    </tr>\n",
              "    <tr>\n",
              "      <th>3</th>\n",
              "      <td>1433221955914</td>\n",
              "      <td>483717</td>\n",
              "      <td>view</td>\n",
              "      <td>253185</td>\n",
              "      <td>NaN</td>\n",
              "      <td>2015-06-02 05:12:35.914</td>\n",
              "    </tr>\n",
              "    <tr>\n",
              "      <th>4</th>\n",
              "      <td>1433221337106</td>\n",
              "      <td>951259</td>\n",
              "      <td>view</td>\n",
              "      <td>367447</td>\n",
              "      <td>NaN</td>\n",
              "      <td>2015-06-02 05:02:17.106</td>\n",
              "    </tr>\n",
              "  </tbody>\n",
              "</table>\n",
              "</div>"
            ],
            "text/plain": [
              "       timestamp  visitorid  ... transactionid                date_time\n",
              "0  1433221332117     257597  ...           NaN  2015-06-02 05:02:12.117\n",
              "1  1433224214164     992329  ...           NaN  2015-06-02 05:50:14.164\n",
              "2  1433221999827     111016  ...           NaN  2015-06-02 05:13:19.827\n",
              "3  1433221955914     483717  ...           NaN  2015-06-02 05:12:35.914\n",
              "4  1433221337106     951259  ...           NaN  2015-06-02 05:02:17.106\n",
              "\n",
              "[5 rows x 6 columns]"
            ]
          },
          "metadata": {
            "tags": []
          },
          "execution_count": 26
        }
      ]
    },
    {
      "cell_type": "markdown",
      "metadata": {
        "id": "AgiD5YE_fNri"
      },
      "source": [
        "**Seperating all events into 3 different dataframes addtocart, view and transaction**"
      ]
    },
    {
      "cell_type": "code",
      "metadata": {
        "id": "_7tgE_ZRffPh",
        "colab": {
          "base_uri": "https://localhost:8080/",
          "height": 204
        },
        "outputId": "d7555741-2ada-4ce8-a82e-42e7ad488e4a"
      },
      "source": [
        "#finding all events where a transaction took place\n",
        "transaction = data_events[data_events['event'] == 'transaction']\n",
        "transaction = transaction.drop(['event'], axis = 1)\n",
        "transaction.head()"
      ],
      "execution_count": null,
      "outputs": [
        {
          "output_type": "execute_result",
          "data": {
            "text/html": [
              "<div>\n",
              "<style scoped>\n",
              "    .dataframe tbody tr th:only-of-type {\n",
              "        vertical-align: middle;\n",
              "    }\n",
              "\n",
              "    .dataframe tbody tr th {\n",
              "        vertical-align: top;\n",
              "    }\n",
              "\n",
              "    .dataframe thead th {\n",
              "        text-align: right;\n",
              "    }\n",
              "</style>\n",
              "<table border=\"1\" class=\"dataframe\">\n",
              "  <thead>\n",
              "    <tr style=\"text-align: right;\">\n",
              "      <th></th>\n",
              "      <th>timestamp</th>\n",
              "      <th>visitorid</th>\n",
              "      <th>itemid</th>\n",
              "      <th>transactionid</th>\n",
              "      <th>date_time</th>\n",
              "    </tr>\n",
              "  </thead>\n",
              "  <tbody>\n",
              "    <tr>\n",
              "      <th>130</th>\n",
              "      <td>1433222276276</td>\n",
              "      <td>599528</td>\n",
              "      <td>356475</td>\n",
              "      <td>4000.0</td>\n",
              "      <td>2015-06-02 05:17:56.276</td>\n",
              "    </tr>\n",
              "    <tr>\n",
              "      <th>304</th>\n",
              "      <td>1433193500981</td>\n",
              "      <td>121688</td>\n",
              "      <td>15335</td>\n",
              "      <td>11117.0</td>\n",
              "      <td>2015-06-01 21:18:20.981</td>\n",
              "    </tr>\n",
              "    <tr>\n",
              "      <th>418</th>\n",
              "      <td>1433193915008</td>\n",
              "      <td>552148</td>\n",
              "      <td>81345</td>\n",
              "      <td>5444.0</td>\n",
              "      <td>2015-06-01 21:25:15.008</td>\n",
              "    </tr>\n",
              "    <tr>\n",
              "      <th>814</th>\n",
              "      <td>1433176736375</td>\n",
              "      <td>102019</td>\n",
              "      <td>150318</td>\n",
              "      <td>13556.0</td>\n",
              "      <td>2015-06-01 16:38:56.375</td>\n",
              "    </tr>\n",
              "    <tr>\n",
              "      <th>843</th>\n",
              "      <td>1433174518180</td>\n",
              "      <td>189384</td>\n",
              "      <td>310791</td>\n",
              "      <td>7244.0</td>\n",
              "      <td>2015-06-01 16:01:58.180</td>\n",
              "    </tr>\n",
              "  </tbody>\n",
              "</table>\n",
              "</div>"
            ],
            "text/plain": [
              "         timestamp  visitorid  itemid  transactionid                date_time\n",
              "130  1433222276276     599528  356475         4000.0  2015-06-02 05:17:56.276\n",
              "304  1433193500981     121688   15335        11117.0  2015-06-01 21:18:20.981\n",
              "418  1433193915008     552148   81345         5444.0  2015-06-01 21:25:15.008\n",
              "814  1433176736375     102019  150318        13556.0  2015-06-01 16:38:56.375\n",
              "843  1433174518180     189384  310791         7244.0  2015-06-01 16:01:58.180"
            ]
          },
          "metadata": {
            "tags": []
          },
          "execution_count": 27
        }
      ]
    },
    {
      "cell_type": "code",
      "metadata": {
        "id": "-Ku0DlmCfsAd",
        "colab": {
          "base_uri": "https://localhost:8080/",
          "height": 204
        },
        "outputId": "45254fb3-ef26-44f7-9c59-370e94787e61"
      },
      "source": [
        "#finding all events where item added to cart\n",
        "addtocart = data_events[data_events['event'] == 'addtocart']\n",
        "addtocart = addtocart.drop(['transactionid','event'], axis = 1)\n",
        "addtocart.head()"
      ],
      "execution_count": null,
      "outputs": [
        {
          "output_type": "execute_result",
          "data": {
            "text/html": [
              "<div>\n",
              "<style scoped>\n",
              "    .dataframe tbody tr th:only-of-type {\n",
              "        vertical-align: middle;\n",
              "    }\n",
              "\n",
              "    .dataframe tbody tr th {\n",
              "        vertical-align: top;\n",
              "    }\n",
              "\n",
              "    .dataframe thead th {\n",
              "        text-align: right;\n",
              "    }\n",
              "</style>\n",
              "<table border=\"1\" class=\"dataframe\">\n",
              "  <thead>\n",
              "    <tr style=\"text-align: right;\">\n",
              "      <th></th>\n",
              "      <th>timestamp</th>\n",
              "      <th>visitorid</th>\n",
              "      <th>itemid</th>\n",
              "      <th>date_time</th>\n",
              "    </tr>\n",
              "  </thead>\n",
              "  <tbody>\n",
              "    <tr>\n",
              "      <th>17</th>\n",
              "      <td>1433223236124</td>\n",
              "      <td>287857</td>\n",
              "      <td>5206</td>\n",
              "      <td>2015-06-02 05:33:56.124</td>\n",
              "    </tr>\n",
              "    <tr>\n",
              "      <th>19</th>\n",
              "      <td>1433221078505</td>\n",
              "      <td>158090</td>\n",
              "      <td>10572</td>\n",
              "      <td>2015-06-02 04:57:58.505</td>\n",
              "    </tr>\n",
              "    <tr>\n",
              "      <th>63</th>\n",
              "      <td>1433223543021</td>\n",
              "      <td>1193904</td>\n",
              "      <td>255275</td>\n",
              "      <td>2015-06-02 05:39:03.021</td>\n",
              "    </tr>\n",
              "    <tr>\n",
              "      <th>112</th>\n",
              "      <td>1433221941632</td>\n",
              "      <td>599528</td>\n",
              "      <td>356475</td>\n",
              "      <td>2015-06-02 05:12:21.632</td>\n",
              "    </tr>\n",
              "    <tr>\n",
              "      <th>179</th>\n",
              "      <td>1433220880956</td>\n",
              "      <td>105775</td>\n",
              "      <td>312728</td>\n",
              "      <td>2015-06-02 04:54:40.956</td>\n",
              "    </tr>\n",
              "  </tbody>\n",
              "</table>\n",
              "</div>"
            ],
            "text/plain": [
              "         timestamp  visitorid  itemid                date_time\n",
              "17   1433223236124     287857    5206  2015-06-02 05:33:56.124\n",
              "19   1433221078505     158090   10572  2015-06-02 04:57:58.505\n",
              "63   1433223543021    1193904  255275  2015-06-02 05:39:03.021\n",
              "112  1433221941632     599528  356475  2015-06-02 05:12:21.632\n",
              "179  1433220880956     105775  312728  2015-06-02 04:54:40.956"
            ]
          },
          "metadata": {
            "tags": []
          },
          "execution_count": 28
        }
      ]
    },
    {
      "cell_type": "code",
      "metadata": {
        "id": "SHYMlKzIfw48",
        "colab": {
          "base_uri": "https://localhost:8080/",
          "height": 204
        },
        "outputId": "784d569d-3d81-417b-c2da-d746950635b6"
      },
      "source": [
        "#finding all items were viewed\n",
        "view = data_events[data_events['event'] == 'view']\n",
        "view = view.drop(['transactionid','event'], axis = 1)\n",
        "\n",
        "view.head()"
      ],
      "execution_count": null,
      "outputs": [
        {
          "output_type": "execute_result",
          "data": {
            "text/html": [
              "<div>\n",
              "<style scoped>\n",
              "    .dataframe tbody tr th:only-of-type {\n",
              "        vertical-align: middle;\n",
              "    }\n",
              "\n",
              "    .dataframe tbody tr th {\n",
              "        vertical-align: top;\n",
              "    }\n",
              "\n",
              "    .dataframe thead th {\n",
              "        text-align: right;\n",
              "    }\n",
              "</style>\n",
              "<table border=\"1\" class=\"dataframe\">\n",
              "  <thead>\n",
              "    <tr style=\"text-align: right;\">\n",
              "      <th></th>\n",
              "      <th>timestamp</th>\n",
              "      <th>visitorid</th>\n",
              "      <th>itemid</th>\n",
              "      <th>date_time</th>\n",
              "    </tr>\n",
              "  </thead>\n",
              "  <tbody>\n",
              "    <tr>\n",
              "      <th>0</th>\n",
              "      <td>1433221332117</td>\n",
              "      <td>257597</td>\n",
              "      <td>355908</td>\n",
              "      <td>2015-06-02 05:02:12.117</td>\n",
              "    </tr>\n",
              "    <tr>\n",
              "      <th>1</th>\n",
              "      <td>1433224214164</td>\n",
              "      <td>992329</td>\n",
              "      <td>248676</td>\n",
              "      <td>2015-06-02 05:50:14.164</td>\n",
              "    </tr>\n",
              "    <tr>\n",
              "      <th>2</th>\n",
              "      <td>1433221999827</td>\n",
              "      <td>111016</td>\n",
              "      <td>318965</td>\n",
              "      <td>2015-06-02 05:13:19.827</td>\n",
              "    </tr>\n",
              "    <tr>\n",
              "      <th>3</th>\n",
              "      <td>1433221955914</td>\n",
              "      <td>483717</td>\n",
              "      <td>253185</td>\n",
              "      <td>2015-06-02 05:12:35.914</td>\n",
              "    </tr>\n",
              "    <tr>\n",
              "      <th>4</th>\n",
              "      <td>1433221337106</td>\n",
              "      <td>951259</td>\n",
              "      <td>367447</td>\n",
              "      <td>2015-06-02 05:02:17.106</td>\n",
              "    </tr>\n",
              "  </tbody>\n",
              "</table>\n",
              "</div>"
            ],
            "text/plain": [
              "       timestamp  visitorid  itemid                date_time\n",
              "0  1433221332117     257597  355908  2015-06-02 05:02:12.117\n",
              "1  1433224214164     992329  248676  2015-06-02 05:50:14.164\n",
              "2  1433221999827     111016  318965  2015-06-02 05:13:19.827\n",
              "3  1433221955914     483717  253185  2015-06-02 05:12:35.914\n",
              "4  1433221337106     951259  367447  2015-06-02 05:02:17.106"
            ]
          },
          "metadata": {
            "tags": []
          },
          "execution_count": 29
        }
      ]
    },
    {
      "cell_type": "markdown",
      "metadata": {
        "id": "7OP3331Hd9eP"
      },
      "source": [
        "**Grouping the itemid is its respective category and parentid's**"
      ]
    },
    {
      "cell_type": "code",
      "metadata": {
        "id": "nkxoQXiBeqQ5"
      },
      "source": [
        "#remove the hashed items\n",
        "properties = properties.loc[properties.property.isin(['categoryid', 'available']), :]\n",
        "#drop duplicates and create 2 tables 1 avaiable and 1 categoryid\n",
        "categoryid = properties[properties.property=='categoryid'].drop_duplicates('itemid', keep='first')\n",
        "item_category = categoryid[['itemid', 'value']]\n",
        "item_category.columns = ['itemid', 'categoryid']\n",
        "available = properties[properties.property=='available']\n",
        "#later we can use the categories to recommend similiar items"
      ],
      "execution_count": null,
      "outputs": []
    },
    {
      "cell_type": "markdown",
      "metadata": {
        "id": "Gdfrum-nevMl"
      },
      "source": [
        "The available attribute defines whether or not an item was in stock at that timestamp, not sure if this will be useful to use or not right now."
      ]
    },
    {
      "cell_type": "code",
      "metadata": {
        "id": "6gTNFA9Ze-Lh",
        "colab": {
          "base_uri": "https://localhost:8080/",
          "height": 204
        },
        "outputId": "7adcdd5f-f134-4138-a78a-fa1d81203300"
      },
      "source": [
        "available.head()"
      ],
      "execution_count": null,
      "outputs": [
        {
          "output_type": "execute_result",
          "data": {
            "text/html": [
              "<div>\n",
              "<style scoped>\n",
              "    .dataframe tbody tr th:only-of-type {\n",
              "        vertical-align: middle;\n",
              "    }\n",
              "\n",
              "    .dataframe tbody tr th {\n",
              "        vertical-align: top;\n",
              "    }\n",
              "\n",
              "    .dataframe thead th {\n",
              "        text-align: right;\n",
              "    }\n",
              "</style>\n",
              "<table border=\"1\" class=\"dataframe\">\n",
              "  <thead>\n",
              "    <tr style=\"text-align: right;\">\n",
              "      <th></th>\n",
              "      <th>timestamp</th>\n",
              "      <th>itemid</th>\n",
              "      <th>property</th>\n",
              "      <th>value</th>\n",
              "    </tr>\n",
              "  </thead>\n",
              "  <tbody>\n",
              "    <tr>\n",
              "      <th>5</th>\n",
              "      <td>1436065200000</td>\n",
              "      <td>285026</td>\n",
              "      <td>available</td>\n",
              "      <td>0</td>\n",
              "    </tr>\n",
              "    <tr>\n",
              "      <th>15</th>\n",
              "      <td>1437274800000</td>\n",
              "      <td>186518</td>\n",
              "      <td>available</td>\n",
              "      <td>0</td>\n",
              "    </tr>\n",
              "    <tr>\n",
              "      <th>79</th>\n",
              "      <td>1433646000000</td>\n",
              "      <td>423682</td>\n",
              "      <td>available</td>\n",
              "      <td>0</td>\n",
              "    </tr>\n",
              "    <tr>\n",
              "      <th>82</th>\n",
              "      <td>1434250800000</td>\n",
              "      <td>316253</td>\n",
              "      <td>available</td>\n",
              "      <td>1</td>\n",
              "    </tr>\n",
              "    <tr>\n",
              "      <th>96</th>\n",
              "      <td>1437274800000</td>\n",
              "      <td>430459</td>\n",
              "      <td>available</td>\n",
              "      <td>0</td>\n",
              "    </tr>\n",
              "  </tbody>\n",
              "</table>\n",
              "</div>"
            ],
            "text/plain": [
              "        timestamp  itemid   property value\n",
              "5   1436065200000  285026  available     0\n",
              "15  1437274800000  186518  available     0\n",
              "79  1433646000000  423682  available     0\n",
              "82  1434250800000  316253  available     1\n",
              "96  1437274800000  430459  available     0"
            ]
          },
          "metadata": {
            "tags": []
          },
          "execution_count": 31
        }
      ]
    },
    {
      "cell_type": "markdown",
      "metadata": {
        "id": "nwgcVCAde9Il"
      },
      "source": [
        "We can merge the category_tree csv with the categoryid dataframe we just created to get a dataframe where we can see the relationship between itemid, categoryid and parentid this will prove to be useful later on in the recommendor most likely"
      ]
    },
    {
      "cell_type": "code",
      "metadata": {
        "id": "5MSuoAsWeQ16",
        "colab": {
          "base_uri": "https://localhost:8080/",
          "height": 204
        },
        "outputId": "8d8b2d22-ea56-40fd-eda7-66a5bf73a598"
      },
      "source": [
        "categorydata = data_categorytree.dropna()\n",
        "category_parent_dict = categorydata.set_index('categoryid').T.to_dict('list')\n",
        "\n",
        "pd.options.mode.chained_assignment = None\n",
        "item_category['parentid'] = item_category.categoryid.apply(lambda x: int(category_parent_dict.get(int(x), [x])[0]))\n",
        "\n",
        "item_category.head()"
      ],
      "execution_count": null,
      "outputs": [
        {
          "output_type": "execute_result",
          "data": {
            "text/html": [
              "<div>\n",
              "<style scoped>\n",
              "    .dataframe tbody tr th:only-of-type {\n",
              "        vertical-align: middle;\n",
              "    }\n",
              "\n",
              "    .dataframe tbody tr th {\n",
              "        vertical-align: top;\n",
              "    }\n",
              "\n",
              "    .dataframe thead th {\n",
              "        text-align: right;\n",
              "    }\n",
              "</style>\n",
              "<table border=\"1\" class=\"dataframe\">\n",
              "  <thead>\n",
              "    <tr style=\"text-align: right;\">\n",
              "      <th></th>\n",
              "      <th>itemid</th>\n",
              "      <th>categoryid</th>\n",
              "      <th>parentid</th>\n",
              "    </tr>\n",
              "  </thead>\n",
              "  <tbody>\n",
              "    <tr>\n",
              "      <th>0</th>\n",
              "      <td>460429</td>\n",
              "      <td>1338</td>\n",
              "      <td>1278</td>\n",
              "    </tr>\n",
              "    <tr>\n",
              "      <th>140</th>\n",
              "      <td>281245</td>\n",
              "      <td>1277</td>\n",
              "      <td>312</td>\n",
              "    </tr>\n",
              "    <tr>\n",
              "      <th>151</th>\n",
              "      <td>35575</td>\n",
              "      <td>1059</td>\n",
              "      <td>1696</td>\n",
              "    </tr>\n",
              "    <tr>\n",
              "      <th>189</th>\n",
              "      <td>8313</td>\n",
              "      <td>1147</td>\n",
              "      <td>1027</td>\n",
              "    </tr>\n",
              "    <tr>\n",
              "      <th>197</th>\n",
              "      <td>55102</td>\n",
              "      <td>47</td>\n",
              "      <td>381</td>\n",
              "    </tr>\n",
              "  </tbody>\n",
              "</table>\n",
              "</div>"
            ],
            "text/plain": [
              "     itemid categoryid  parentid\n",
              "0    460429       1338      1278\n",
              "140  281245       1277       312\n",
              "151   35575       1059      1696\n",
              "189    8313       1147      1027\n",
              "197   55102         47       381"
            ]
          },
          "metadata": {
            "tags": []
          },
          "execution_count": 32
        }
      ]
    },
    {
      "cell_type": "markdown",
      "metadata": {
        "id": "JJYkrguWUQuU"
      },
      "source": [
        "##The outcome\n",
        "\n"
      ]
    },
    {
      "cell_type": "markdown",
      "metadata": {
        "id": "kA8ZMgMGhnPc"
      },
      "source": [
        "Now we have 3 event dataframes containing, view, addtocart, and transactions, I removed the event column for all three dataframes and the transactionid for the addtocart and view dataframes, this is because they are redundant. \n",
        "\n",
        "The itemid is now link to its category and parentid where available through the item_category dataframe.\n",
        "\n",
        "The item properties have been merged to one dataframe.\n",
        "\n",
        "All timestamps have been converted."
      ]
    },
    {
      "cell_type": "markdown",
      "metadata": {
        "id": "jcwB0ggBlgUJ"
      },
      "source": [
        "#Data visualization-subtask1"
      ]
    },
    {
      "cell_type": "markdown",
      "metadata": {
        "id": "FwGjOSaqUHxb"
      },
      "source": [
        "##The goal\n",
        "\n"
      ]
    },
    {
      "cell_type": "markdown",
      "metadata": {
        "id": "Dj9yAwiCFiis"
      },
      "source": [
        "With the rapid growth in the techniques for knowledge discovery in databases (KDD), data visualization becomes increasingly important in spotting patterns during data mining (Grinstein at al., 2002). This subtask is aiming at discovering correlations between different variables from graphs, as well as understanding the data distributions. The visualization will be performed on the data frame after preprocessing."
      ]
    },
    {
      "cell_type": "markdown",
      "metadata": {
        "id": "LE7Av0B9UKQO"
      },
      "source": [
        "##The code"
      ]
    },
    {
      "cell_type": "code",
      "metadata": {
        "id": "DSuwuioEikI9",
        "colab": {
          "base_uri": "https://localhost:8080/",
          "height": 466
        },
        "outputId": "68d7cf33-7c48-4002-910c-0af7fc784f21"
      },
      "source": [
        "data = data_events.event.value_counts()\n",
        "labels = data.index\n",
        "sizes = data.values\n",
        "explode = (0, 0.15, 0.15)  # explode 1st slice\n",
        "plt.subplots(figsize=(8,8))\n",
        "# Plot\n",
        "plt.pie(sizes, explode=explode, labels=labels,autopct='%1.1f%%', shadow=False, startangle=0)\n",
        " \n",
        "plt.axis('equal')\n",
        "plt.show()"
      ],
      "execution_count": null,
      "outputs": [
        {
          "output_type": "display_data",
          "data": {
            "image/png": "[encoded data removed]",
            "text/plain": [
              "<Figure size 576x576 with 1 Axes>"
            ]
          },
          "metadata": {
            "tags": []
          }
        }
      ]
    },
    {
      "cell_type": "markdown",
      "metadata": {
        "id": "ZVly3iwSingW"
      },
      "source": [
        "The Pie chart of the events table better demonstrates the share of events, the view action accounts for 96.9% of actions while the transaction only accounts for 0.8%. "
      ]
    },
    {
      "cell_type": "markdown",
      "metadata": {
        "id": "5mQl-dRSjaE_"
      },
      "source": [
        "It could be interesting to see the relationship between the three event types."
      ]
    },
    {
      "cell_type": "code",
      "metadata": {
        "id": "RM7RLSKmjdWQ",
        "colab": {
          "base_uri": "https://localhost:8080/",
          "height": 204
        },
        "outputId": "8acd166c-ced6-4909-c54b-aa6465877ceb"
      },
      "source": [
        "events = data_events.drop(['visitorid'], axis = 1)\n",
        "\n",
        "#find the total number of tranactions per item\n",
        "transaction = events[events['event'] == 'transaction']\n",
        "transaction = transaction['itemid'].value_counts()\n",
        "transaction = pd.DataFrame(transaction).reset_index()\n",
        "transaction.columns = ['itemid', 'transaction']\n",
        "\n",
        "#find the total number of addtocart per item\n",
        "addtocart = events[events['event'] == 'addtocart']\n",
        "addtocart = addtocart['itemid'].value_counts()\n",
        "addtocart = pd.DataFrame(addtocart).reset_index()\n",
        "addtocart.columns = ['itemid', 'addtocart']\n",
        "\n",
        "#find the total number of view per item\n",
        "view = events[events['event'] == 'view']\n",
        "view = view['itemid'].value_counts()\n",
        "view = pd.DataFrame(view).reset_index()\n",
        "view.columns = ['itemid', 'view']\n",
        "\n",
        "eventsum = transaction.merge(addtocart, left_on='itemid', right_on='itemid')\n",
        "eventsum = eventsum.merge(view, left_on='itemid', right_on='itemid')\n",
        "eventsum.head()"
      ],
      "execution_count": null,
      "outputs": [
        {
          "output_type": "execute_result",
          "data": {
            "text/html": [
              "<div>\n",
              "<style scoped>\n",
              "    .dataframe tbody tr th:only-of-type {\n",
              "        vertical-align: middle;\n",
              "    }\n",
              "\n",
              "    .dataframe tbody tr th {\n",
              "        vertical-align: top;\n",
              "    }\n",
              "\n",
              "    .dataframe thead th {\n",
              "        text-align: right;\n",
              "    }\n",
              "</style>\n",
              "<table border=\"1\" class=\"dataframe\">\n",
              "  <thead>\n",
              "    <tr style=\"text-align: right;\">\n",
              "      <th></th>\n",
              "      <th>itemid</th>\n",
              "      <th>transaction</th>\n",
              "      <th>addtocart</th>\n",
              "      <th>view</th>\n",
              "    </tr>\n",
              "  </thead>\n",
              "  <tbody>\n",
              "    <tr>\n",
              "      <th>0</th>\n",
              "      <td>461686</td>\n",
              "      <td>133</td>\n",
              "      <td>306</td>\n",
              "      <td>2539</td>\n",
              "    </tr>\n",
              "    <tr>\n",
              "      <th>1</th>\n",
              "      <td>119736</td>\n",
              "      <td>97</td>\n",
              "      <td>44</td>\n",
              "      <td>752</td>\n",
              "    </tr>\n",
              "    <tr>\n",
              "      <th>2</th>\n",
              "      <td>213834</td>\n",
              "      <td>92</td>\n",
              "      <td>17</td>\n",
              "      <td>293</td>\n",
              "    </tr>\n",
              "    <tr>\n",
              "      <th>3</th>\n",
              "      <td>312728</td>\n",
              "      <td>46</td>\n",
              "      <td>162</td>\n",
              "      <td>947</td>\n",
              "    </tr>\n",
              "    <tr>\n",
              "      <th>4</th>\n",
              "      <td>7943</td>\n",
              "      <td>46</td>\n",
              "      <td>97</td>\n",
              "      <td>1346</td>\n",
              "    </tr>\n",
              "  </tbody>\n",
              "</table>\n",
              "</div>"
            ],
            "text/plain": [
              "   itemid  transaction  addtocart  view\n",
              "0  461686          133        306  2539\n",
              "1  119736           97         44   752\n",
              "2  213834           92         17   293\n",
              "3  312728           46        162   947\n",
              "4    7943           46         97  1346"
            ]
          },
          "metadata": {
            "tags": []
          },
          "execution_count": 34
        }
      ]
    },
    {
      "cell_type": "markdown",
      "metadata": {
        "id": "zP8QK76pjzMs"
      },
      "source": [
        "We can see just from inspecting the dataframe created that the relationship between each event may be quite weak, to better show this we will create a correlation martix."
      ]
    },
    {
      "cell_type": "code",
      "metadata": {
        "id": "MMGcIOd9kECb",
        "colab": {
          "base_uri": "https://localhost:8080/",
          "height": 269
        },
        "outputId": "69fe8cb8-62b3-45b2-d0a0-07b17919f0d8"
      },
      "source": [
        "df = pd.DataFrame(eventsum,columns=['transaction','addtocart','view'])\n",
        "corrMatrix = df.corr()\n",
        "sns.heatmap(corrMatrix, annot=True)\n",
        "plt.show()"
      ],
      "execution_count": null,
      "outputs": [
        {
          "output_type": "display_data",
          "data": {
            "image/png": "[encoded data removed]",
            "text/plain": [
              "<Figure size 432x288 with 2 Axes>"
            ]
          },
          "metadata": {
            "tags": [],
            "needs_background": "light"
          }
        }
      ]
    },
    {
      "cell_type": "markdown",
      "metadata": {
        "id": "mXEUzityk4wj"
      },
      "source": [
        "It would be interesting to see the number of visitors that the store gets and the number of people who purchase something"
      ]
    },
    {
      "cell_type": "code",
      "metadata": {
        "id": "BGl949nZmDj6"
      },
      "source": [
        "#Find all visitors\n",
        "all_visitors = data_events.visitorid.sort_values().unique() #Making array of all unique visitors id in an array sorting it by the values accendigly\n",
        "no_all_visitors = all_visitors.size\n",
        "\n",
        "#Find All buying visitors\n",
        "buying_visitors = data_events[data_events.event == 'transaction'].visitorid.sort_values().unique()\n",
        "no_buying_visitors = buying_visitors.size\n",
        "\n",
        "#Find All Non Buying visitors\n",
        "no_browsing_visitors = no_all_visitors - no_buying_visitors\n"
      ],
      "execution_count": null,
      "outputs": []
    },
    {
      "cell_type": "code",
      "metadata": {
        "id": "hYETjt2ymFFq",
        "colab": {
          "base_uri": "https://localhost:8080/",
          "height": 319
        },
        "outputId": "40df8e90-90a5-43cc-fcb5-481bb8669fc0"
      },
      "source": [
        "#Pie chart to show buying to non buying visitors\n",
        "fig = plt.figure()\n",
        "ax = fig.add_axes([0,0,1,1])\n",
        "ax.axis('equal')\n",
        "labels = ['Buying Visitors', 'Not Buying Visitors']\n",
        "students = [no_browsing_visitors,no_browsing_vistors]\n",
        "ax.pie(students, labels = labels,autopct='%1.2f%%')\n",
        "plt.show()"
      ],
      "execution_count": null,
      "outputs": [
        {
          "output_type": "display_data",
          "data": {
            "image/png": "[encoded data removed]",
            "text/plain": [
              "<Figure size 432x288 with 1 Axes>"
            ]
          },
          "metadata": {
            "tags": []
          }
        }
      ]
    },
    {
      "cell_type": "markdown",
      "metadata": {
        "id": "cEv0OKd3oYnL"
      },
      "source": [
        "This is a surprising outcome, it hints that alot of people are just browsing the website."
      ]
    },
    {
      "cell_type": "markdown",
      "metadata": {
        "id": "-PzlyFJcUMp1"
      },
      "source": [
        "##The outcome (interpretation)\n",
        "\n",
        "\n"
      ]
    },
    {
      "cell_type": "markdown",
      "metadata": {
        "id": "j2kxa0DhGcTr"
      },
      "source": [
        "From the first pie chart we can see that the majority of events are item views, this is unsurprising however in the final pie chart we can see that the vast majority of visitors don't purchase anything. Just over 99% of people don't have a transaction. This could mean that the webpage sees alot of traffic from outside of its core customer base perhaps\n",
        "\n",
        "The correlation matrix demonstrates viewing and purchasing have a weak relationship meaning users are likely just browsing, where as the relationship between addtocart and transactions is quite strong. This would indicate once an item is added to cart the user is likely to purchase it unsurprisingly."
      ]
    },
    {
      "cell_type": "markdown",
      "metadata": {
        "id": "Fodoxx81AmCV"
      },
      "source": [
        "#Customer behaviour analysis-subtask2\n",
        "\n"
      ]
    },
    {
      "cell_type": "markdown",
      "metadata": {
        "id": "Cjhn6wKCF-9j"
      },
      "source": [
        "##Interaction patterns"
      ]
    },
    {
      "cell_type": "markdown",
      "metadata": {
        "id": "gi7aJ4eP9jNe"
      },
      "source": [
        "### The goal\n"
      ]
    },
    {
      "cell_type": "markdown",
      "metadata": {
        "id": "f6DUACLG9vQM"
      },
      "source": [
        "The goal here is to get a better idea of what the customers are, what they do and how they interact with the store"
      ]
    },
    {
      "cell_type": "markdown",
      "metadata": {
        "id": "-pEGk61i-YdZ"
      },
      "source": [
        "### The code\n"
      ]
    },
    {
      "cell_type": "markdown",
      "metadata": {
        "id": "DE5zFyN4IDwm"
      },
      "source": [
        "First we make a list of all customers id.That's both the customers that bought something and those who just viewed the items."
      ]
    },
    {
      "cell_type": "code",
      "metadata": {
        "colab": {
          "base_uri": "https://localhost:8080/"
        },
        "id": "eZ8MlozTGM5G",
        "outputId": "a47950e1-02b3-4861-d49e-cab4c9cd6deb"
      },
      "source": [
        "all_visitors = data_events.visitorid.sort_values().unique() #Making array of all unique visitors id in an array sorting it by the values accendigly\n",
        "all_visitors.size\n"
      ],
      "execution_count": null,
      "outputs": [
        {
          "output_type": "execute_result",
          "data": {
            "text/plain": [
              "1407580"
            ]
          },
          "metadata": {
            "tags": []
          },
          "execution_count": 38
        }
      ]
    },
    {
      "cell_type": "markdown",
      "metadata": {
        "id": "iTYsLu32Ibf1"
      },
      "source": [
        "Now we will make a list of customers that have bought something"
      ]
    },
    {
      "cell_type": "code",
      "metadata": {
        "id": "WQ-Cg44EIm_N",
        "colab": {
          "base_uri": "https://localhost:8080/"
        },
        "outputId": "a92660ef-479d-42db-8b33-0c936776c8b7"
      },
      "source": [
        "buy_visitors = data_events[data_events.event == 'transaction'].visitorid.sort_values().unique()\n",
        "buy_visitors.size # creating array which gets the visitors id's that had \"transaction\" event"
      ],
      "execution_count": null,
      "outputs": [
        {
          "output_type": "execute_result",
          "data": {
            "text/plain": [
              "11719"
            ]
          },
          "metadata": {
            "tags": []
          },
          "execution_count": 39
        }
      ]
    },
    {
      "cell_type": "markdown",
      "metadata": {
        "id": "EFvprE5yJpqO"
      },
      "source": [
        "By subtracting the number of visitors who bought something from the number of all visitors we get:\n",
        "\n",
        "\n",
        "> 1407580-11719= 1395861\n",
        "\n"
      ]
    },
    {
      "cell_type": "code",
      "metadata": {
        "id": "Z0G3Z33fg8Q0"
      },
      "source": [
        "# creating array which gets the visitors id's who didn't have a transaction event\n",
        "#view_visitors = data_events[data_events.transactionid.isnull()].visitorid.sort_values().unique()\n",
        "#len(view_visitors)\n",
        "\n",
        "view_visitors = list([x for x in all_visitors if x not in buy_visitors])\n"
      ],
      "execution_count": null,
      "outputs": []
    },
    {
      "cell_type": "markdown",
      "metadata": {
        "id": "1CWziFNBMMu1"
      },
      "source": [
        "Now in order to work with the data more easily, we will create a function that makes custom dataframe. In this case it's a dataframe that shows: visitor id, a number of unique itmes viewed, number of viewed items in total, how much items were bought, and an indicator whether the visitor has purchased anything or not. 0 means no, 1 means yes."
      ]
    },
    {
      "cell_type": "code",
      "metadata": {
        "id": "m9N9iCJVMMZo"
      },
      "source": [
        "def create_dataframe(visitor): #defining a function for data frame creation \n",
        "    #array that will hold the new dataframe\n",
        "    visitor_df_array = []\n",
        "\n",
        "    for x in visitor:\n",
        "\n",
        "        #Creating array that holds all the data about visitor but the id\n",
        "        v_df = data_events[data_events.visitorid == x]\n",
        "        #Creating a temporary array to hold all the visitors attributes\n",
        "        temp = []\n",
        "        #Populating array's first element with the current index\n",
        "        temp.append(x)\n",
        "        #Populating the array with the number of unique products viewed by the visitor (num_uniq_items_viewed)\n",
        "        temp.append(v_df[v_df.event == 'view'].itemid.unique().size)\n",
        "        #Populating the array with the number of how many times the visitor viewed items regardless if its the same product or not (num_views_total)\n",
        "        temp.append(v_df[v_df.event == 'view'].event.count())\n",
        "        number_of_items_bought = v_df[v_df.event == 'transaction'].event.count()\n",
        "        temp.append(number_of_items_bought)\n",
        "        #Creating a variable that holds the number of how many times the event \"transacion\" appeared for the current visitor (bought_count)        \n",
        "        #add indication of wherether the visitor has bought an item or not\n",
        "\n",
        "\n",
        "\n",
        "\n",
        "    #if visitor bought atleast 1 item the atribute is set to 1 if visitor hasn't bought anything it's set to 0\n",
        "        if(number_of_items_bought == 0):\n",
        "            temp.append(0)\n",
        "        else:\n",
        "            temp.append(1)\n",
        "    #appending the visitor data frame array that holds all the attributes\n",
        "        visitor_df_array.append(temp)\n",
        "    #returning dataframe with all the attributes, and naming the collumns of the data frame    \n",
        "    return pd.DataFrame(visitor_df_array, columns=['visitorid', 'num_uniq_items_viewed', 'num_views_total', 'bought_count', 'purchased'])\n",
        "\n",
        "\n"
      ],
      "execution_count": null,
      "outputs": []
    },
    {
      "cell_type": "code",
      "metadata": {
        "id": "OHXcii1DQeVd"
      },
      "source": [
        "#calling a function with the buyer visitors data\n",
        "buy_visitors_df = create_dataframe(buy_visitors)"
      ],
      "execution_count": null,
      "outputs": []
    },
    {
      "cell_type": "code",
      "metadata": {
        "colab": {
          "base_uri": "https://localhost:8080/"
        },
        "id": "GZUmkwUKIk_b",
        "outputId": "82245038-7d33-4a80-f760-105a897957c7"
      },
      "source": [
        "buy_visitors_df.head()"
      ],
      "execution_count": null,
      "outputs": [
        {
          "output_type": "execute_result",
          "data": {
            "text/html": [
              "<div>\n",
              "<style scoped>\n",
              "    .dataframe tbody tr th:only-of-type {\n",
              "        vertical-align: middle;\n",
              "    }\n",
              "\n",
              "    .dataframe tbody tr th {\n",
              "        vertical-align: top;\n",
              "    }\n",
              "\n",
              "    .dataframe thead th {\n",
              "        text-align: right;\n",
              "    }\n",
              "</style>\n",
              "<table border=\"1\" class=\"dataframe\">\n",
              "  <thead>\n",
              "    <tr style=\"text-align: right;\">\n",
              "      <th></th>\n",
              "      <th>visitorid</th>\n",
              "      <th>num_uniq_items_viewed</th>\n",
              "      <th>num_views_total</th>\n",
              "      <th>bought_count</th>\n",
              "      <th>purchased</th>\n",
              "    </tr>\n",
              "  </thead>\n",
              "  <tbody>\n",
              "    <tr>\n",
              "      <th>0</th>\n",
              "      <td>172</td>\n",
              "      <td>22</td>\n",
              "      <td>33</td>\n",
              "      <td>2</td>\n",
              "      <td>1</td>\n",
              "    </tr>\n",
              "    <tr>\n",
              "      <th>1</th>\n",
              "      <td>186</td>\n",
              "      <td>1</td>\n",
              "      <td>2</td>\n",
              "      <td>1</td>\n",
              "      <td>1</td>\n",
              "    </tr>\n",
              "    <tr>\n",
              "      <th>2</th>\n",
              "      <td>264</td>\n",
              "      <td>2</td>\n",
              "      <td>3</td>\n",
              "      <td>2</td>\n",
              "      <td>1</td>\n",
              "    </tr>\n",
              "    <tr>\n",
              "      <th>3</th>\n",
              "      <td>419</td>\n",
              "      <td>3</td>\n",
              "      <td>4</td>\n",
              "      <td>1</td>\n",
              "      <td>1</td>\n",
              "    </tr>\n",
              "    <tr>\n",
              "      <th>4</th>\n",
              "      <td>539</td>\n",
              "      <td>1</td>\n",
              "      <td>4</td>\n",
              "      <td>1</td>\n",
              "      <td>1</td>\n",
              "    </tr>\n",
              "  </tbody>\n",
              "</table>\n",
              "</div>"
            ],
            "text/plain": [
              "   visitorid  num_uniq_items_viewed  num_views_total  bought_count  purchased\n",
              "0        172                     22               33             2          1\n",
              "1        186                      1                2             1          1\n",
              "2        264                      2                3             2          1\n",
              "3        419                      3                4             1          1\n",
              "4        539                      1                4             1          1"
            ]
          },
          "metadata": {
            "tags": []
          },
          "execution_count": 43
        }
      ]
    },
    {
      "cell_type": "markdown",
      "metadata": {
        "id": "9XsUF-DxEKTQ"
      },
      "source": [
        "Because there are so many viewer visitors, it takes a lot of time to compute their data, therefore we take a smaller part of the data.  But before that shuffle the ids so that the smaller part of data we take is not the same every time."
      ]
    },
    {
      "cell_type": "code",
      "metadata": {
        "id": "eUMcFWV0WNo0"
      },
      "source": [
        "#Shuffling the viewer visitors id \n",
        "random.shuffle(view_visitors)\n",
        "#calling a function with viewer data\n",
        "view_visitors_df = create_dataframe(view_visitors[0:27820]) "
      ],
      "execution_count": null,
      "outputs": []
    },
    {
      "cell_type": "markdown",
      "metadata": {
        "id": "_w5NjJs_xXKU"
      },
      "source": [
        "We reduce the ammount of id's to 27820, to keep a 70-30 ratio split for training and testing the prediction model."
      ]
    },
    {
      "cell_type": "markdown",
      "metadata": {
        "id": "7ZzoJMQRFO5E"
      },
      "source": [
        "By joining 2 custom dataframes we can look for correlations with each value using pairplots."
      ]
    },
    {
      "cell_type": "code",
      "metadata": {
        "colab": {
          "base_uri": "https://localhost:8080/"
        },
        "id": "52ym1-AcYJGf",
        "outputId": "cf1cc058-a614-41ce-9ca2-14d28ff06283"
      },
      "source": [
        "#Concatenating 2 dataframes along 2 axes\n",
        "main_df = pd.concat([buy_visitors_df, view_visitors_df], ignore_index=True)\n",
        "\n",
        "main_df = main_df.sample(frac=1)\n",
        "\n",
        "#calling a pairplot function\n",
        "sns.pairplot(main_df, x_vars = ['num_uniq_items_viewed', 'num_views_total', 'bought_count'], y_vars = ['num_uniq_items_viewed', 'num_views_total', 'bought_count'],  hue = 'purchased')"
      ],
      "execution_count": null,
      "outputs": [
        {
          "output_type": "stream",
          "text": [
            "/usr/local/lib/python3.7/dist-packages/seaborn/distributions.py:306: UserWarning: Dataset has 0 variance; skipping density estimate.\n",
            "  warnings.warn(msg, UserWarning)\n"
          ],
          "name": "stderr"
        },
        {
          "output_type": "execute_result",
          "data": {
            "text/plain": [
              "<seaborn.axisgrid.PairGrid at 0x7fe855549990>"
            ]
          },
          "metadata": {
            "tags": []
          },
          "execution_count": 45
        },
        {
          "output_type": "display_data",
          "data": {
            "image/png": "[encoded data removed]",
            "text/plain": [
              "<Figure size 600.25x540 with 12 Axes>"
            ]
          },
          "metadata": {
            "tags": [],
            "needs_background": "light"
          }
        }
      ]
    },
    {
      "cell_type": "markdown",
      "metadata": {
        "id": "92OosR_1Fgzx"
      },
      "source": [
        "Histograms show the distribution of one value. Top-left histogram represents the frequency of number of unique items viewed. "
      ]
    },
    {
      "cell_type": "markdown",
      "metadata": {
        "id": "DsPsoow8qcfG"
      },
      "source": [
        "From the pairplots above we can see that first of all there is a clear linear regression in when ploting how many unique items were viewed to how many items vere viewed in total. This means that the customer that views a certain item a lot, is also viewing a lot of other items. \n",
        "We also can see a strong correlation between the number of unique items viewed and items bought. This means that the more unique items visitors view the more they buy.\n",
        "\n",
        "Having that in mind now we should look what influences visitors to buy or view items."
      ]
    },
    {
      "cell_type": "markdown",
      "metadata": {
        "id": "HUmR0JA9wRe-"
      },
      "source": [
        "## Time Influence"
      ]
    },
    {
      "cell_type": "markdown",
      "metadata": {
        "id": "bGsc8-8COtah"
      },
      "source": [
        "### The goal"
      ]
    },
    {
      "cell_type": "markdown",
      "metadata": {
        "id": "zIaGnq9h2QdV"
      },
      "source": [
        "Firstly we decided to check if the time has any influence on visitors behaviours.\n",
        "We need to convert unix timestamp into a understandable format."
      ]
    },
    {
      "cell_type": "markdown",
      "metadata": {
        "id": "VDQBiaEzO23R"
      },
      "source": [
        "### The code"
      ]
    },
    {
      "cell_type": "markdown",
      "metadata": {
        "id": "WiKGA1129qIc"
      },
      "source": [
        "The timestamp attribute was expressed Unix Epoch format, but in the Data Cleaning section we converted it into a readable format."
      ]
    },
    {
      "cell_type": "code",
      "metadata": {
        "id": "7_M2vmS8rfgv",
        "colab": {
          "base_uri": "https://localhost:8080/"
        },
        "outputId": "1427d612-8533-42d6-ade1-8496a182461d"
      },
      "source": [
        "#Converting Timestamp in the events dataframe\n",
        "liste=[]\n",
        "#using enumerate to count the ammount timestamp appears in the dataframe\n",
        "for i, unix in enumerate(data_events['timestamp']):\n",
        "  #converting timestamp into datetime format\n",
        "    timestamp, ms = divmod(unix, 1000)\n",
        "\n",
        "    #creating datafarme to hold the date and the time converted from timestamps\n",
        "    dt = datetime.datetime.fromtimestamp(timestamp) + datetime.timedelta(milliseconds=ms)\n",
        "    #making a list that will hold the date and time in the described format\n",
        "    formatted_time = dt.strftime('%Y-%m-%d %H:%M:%S.%f')[:-3]\n",
        "\n",
        "    liste.append(formatted_time)\n",
        "#making another column in the dataframe to hold the dates and times from the list\n",
        "data_events['date_time']=pd.DataFrame({'date_time':liste})\n",
        "data_events.head()"
      ],
      "execution_count": null,
      "outputs": [
        {
          "output_type": "execute_result",
          "data": {
            "text/html": [
              "<div>\n",
              "<style scoped>\n",
              "    .dataframe tbody tr th:only-of-type {\n",
              "        vertical-align: middle;\n",
              "    }\n",
              "\n",
              "    .dataframe tbody tr th {\n",
              "        vertical-align: top;\n",
              "    }\n",
              "\n",
              "    .dataframe thead th {\n",
              "        text-align: right;\n",
              "    }\n",
              "</style>\n",
              "<table border=\"1\" class=\"dataframe\">\n",
              "  <thead>\n",
              "    <tr style=\"text-align: right;\">\n",
              "      <th></th>\n",
              "      <th>timestamp</th>\n",
              "      <th>visitorid</th>\n",
              "      <th>event</th>\n",
              "      <th>itemid</th>\n",
              "      <th>transactionid</th>\n",
              "      <th>date_time</th>\n",
              "    </tr>\n",
              "  </thead>\n",
              "  <tbody>\n",
              "    <tr>\n",
              "      <th>0</th>\n",
              "      <td>1433221332117</td>\n",
              "      <td>257597</td>\n",
              "      <td>view</td>\n",
              "      <td>355908</td>\n",
              "      <td>NaN</td>\n",
              "      <td>2015-06-02 05:02:12.117</td>\n",
              "    </tr>\n",
              "    <tr>\n",
              "      <th>1</th>\n",
              "      <td>1433224214164</td>\n",
              "      <td>992329</td>\n",
              "      <td>view</td>\n",
              "      <td>248676</td>\n",
              "      <td>NaN</td>\n",
              "      <td>2015-06-02 05:50:14.164</td>\n",
              "    </tr>\n",
              "    <tr>\n",
              "      <th>2</th>\n",
              "      <td>1433221999827</td>\n",
              "      <td>111016</td>\n",
              "      <td>view</td>\n",
              "      <td>318965</td>\n",
              "      <td>NaN</td>\n",
              "      <td>2015-06-02 05:13:19.827</td>\n",
              "    </tr>\n",
              "    <tr>\n",
              "      <th>3</th>\n",
              "      <td>1433221955914</td>\n",
              "      <td>483717</td>\n",
              "      <td>view</td>\n",
              "      <td>253185</td>\n",
              "      <td>NaN</td>\n",
              "      <td>2015-06-02 05:12:35.914</td>\n",
              "    </tr>\n",
              "    <tr>\n",
              "      <th>4</th>\n",
              "      <td>1433221337106</td>\n",
              "      <td>951259</td>\n",
              "      <td>view</td>\n",
              "      <td>367447</td>\n",
              "      <td>NaN</td>\n",
              "      <td>2015-06-02 05:02:17.106</td>\n",
              "    </tr>\n",
              "  </tbody>\n",
              "</table>\n",
              "</div>"
            ],
            "text/plain": [
              "       timestamp  visitorid  ... transactionid                date_time\n",
              "0  1433221332117     257597  ...           NaN  2015-06-02 05:02:12.117\n",
              "1  1433224214164     992329  ...           NaN  2015-06-02 05:50:14.164\n",
              "2  1433221999827     111016  ...           NaN  2015-06-02 05:13:19.827\n",
              "3  1433221955914     483717  ...           NaN  2015-06-02 05:12:35.914\n",
              "4  1433221337106     951259  ...           NaN  2015-06-02 05:02:17.106\n",
              "\n",
              "[5 rows x 6 columns]"
            ]
          },
          "metadata": {
            "tags": []
          },
          "execution_count": 46
        }
      ]
    },
    {
      "cell_type": "markdown",
      "metadata": {
        "id": "N78M2vAT2xvy"
      },
      "source": [
        "Now that we can have understandable reporesentation of time, we will try see is any connection between day of the week and visitor activity."
      ]
    },
    {
      "cell_type": "markdown",
      "metadata": {
        "id": "Wm3yj90pruWp"
      },
      "source": [
        "Here we are formating the converted timestamp so we can use various integratedfunctions. Like taking the day of the week form the date from that converted timestamp"
      ]
    },
    {
      "cell_type": "code",
      "metadata": {
        "id": "u2TVRM7iP2Ko"
      },
      "source": [
        "#making sure the date_time column is datetime format, so we can later use datetime library functions\n",
        "data_events.date_time=pd.to_datetime(data_events.date_time)\n",
        "#making a column that will hold the which day of week the date is. 0 is monday 6 is sunday\n",
        "data_events['dayofweek']=data_events.date_time.dt.dayofweek\n"
      ],
      "execution_count": null,
      "outputs": []
    },
    {
      "cell_type": "code",
      "metadata": {
        "id": "Xlf75_tFADcl",
        "colab": {
          "base_uri": "https://localhost:8080/"
        },
        "outputId": "933af47a-9a4f-409a-84ed-359e17eccdc8"
      },
      "source": [
        "data_events.groupby('dayofweek').count()"
      ],
      "execution_count": null,
      "outputs": [
        {
          "output_type": "execute_result",
          "data": {
            "text/html": [
              "<div>\n",
              "<style scoped>\n",
              "    .dataframe tbody tr th:only-of-type {\n",
              "        vertical-align: middle;\n",
              "    }\n",
              "\n",
              "    .dataframe tbody tr th {\n",
              "        vertical-align: top;\n",
              "    }\n",
              "\n",
              "    .dataframe thead th {\n",
              "        text-align: right;\n",
              "    }\n",
              "</style>\n",
              "<table border=\"1\" class=\"dataframe\">\n",
              "  <thead>\n",
              "    <tr style=\"text-align: right;\">\n",
              "      <th></th>\n",
              "      <th>timestamp</th>\n",
              "      <th>visitorid</th>\n",
              "      <th>event</th>\n",
              "      <th>itemid</th>\n",
              "      <th>transactionid</th>\n",
              "      <th>date_time</th>\n",
              "    </tr>\n",
              "    <tr>\n",
              "      <th>dayofweek</th>\n",
              "      <th></th>\n",
              "      <th></th>\n",
              "      <th></th>\n",
              "      <th></th>\n",
              "      <th></th>\n",
              "      <th></th>\n",
              "    </tr>\n",
              "  </thead>\n",
              "  <tbody>\n",
              "    <tr>\n",
              "      <th>0</th>\n",
              "      <td>439813</td>\n",
              "      <td>439813</td>\n",
              "      <td>439813</td>\n",
              "      <td>439813</td>\n",
              "      <td>3848</td>\n",
              "      <td>439813</td>\n",
              "    </tr>\n",
              "    <tr>\n",
              "      <th>1</th>\n",
              "      <td>447077</td>\n",
              "      <td>447077</td>\n",
              "      <td>447077</td>\n",
              "      <td>447077</td>\n",
              "      <td>3973</td>\n",
              "      <td>447077</td>\n",
              "    </tr>\n",
              "    <tr>\n",
              "      <th>2</th>\n",
              "      <td>431114</td>\n",
              "      <td>431114</td>\n",
              "      <td>431114</td>\n",
              "      <td>431114</td>\n",
              "      <td>4151</td>\n",
              "      <td>431114</td>\n",
              "    </tr>\n",
              "    <tr>\n",
              "      <th>3</th>\n",
              "      <td>418761</td>\n",
              "      <td>418761</td>\n",
              "      <td>418761</td>\n",
              "      <td>418761</td>\n",
              "      <td>3750</td>\n",
              "      <td>418761</td>\n",
              "    </tr>\n",
              "    <tr>\n",
              "      <th>4</th>\n",
              "      <td>379699</td>\n",
              "      <td>379699</td>\n",
              "      <td>379699</td>\n",
              "      <td>379699</td>\n",
              "      <td>2929</td>\n",
              "      <td>379699</td>\n",
              "    </tr>\n",
              "    <tr>\n",
              "      <th>5</th>\n",
              "      <td>305215</td>\n",
              "      <td>305215</td>\n",
              "      <td>305215</td>\n",
              "      <td>305215</td>\n",
              "      <td>1811</td>\n",
              "      <td>305215</td>\n",
              "    </tr>\n",
              "    <tr>\n",
              "      <th>6</th>\n",
              "      <td>334422</td>\n",
              "      <td>334422</td>\n",
              "      <td>334422</td>\n",
              "      <td>334422</td>\n",
              "      <td>1995</td>\n",
              "      <td>334422</td>\n",
              "    </tr>\n",
              "  </tbody>\n",
              "</table>\n",
              "</div>"
            ],
            "text/plain": [
              "           timestamp  visitorid   event  itemid  transactionid  date_time\n",
              "dayofweek                                                                \n",
              "0             439813     439813  439813  439813           3848     439813\n",
              "1             447077     447077  447077  447077           3973     447077\n",
              "2             431114     431114  431114  431114           4151     431114\n",
              "3             418761     418761  418761  418761           3750     418761\n",
              "4             379699     379699  379699  379699           2929     379699\n",
              "5             305215     305215  305215  305215           1811     305215\n",
              "6             334422     334422  334422  334422           1995     334422"
            ]
          },
          "metadata": {
            "tags": []
          },
          "execution_count": 48
        }
      ]
    },
    {
      "cell_type": "code",
      "metadata": {
        "id": "umjZIlTFEVTt"
      },
      "source": [
        "#creating new rows in the dataframe that will hold hour and day of the week\n",
        "data_events['hour']=data_events.date_time.dt.hour\n",
        "data_events['week']=data_events.date_time.dt.isocalendar().week\n",
        "data_events['date_time']=pd.to_datetime(data_events['date_time'])\n"
      ],
      "execution_count": null,
      "outputs": []
    },
    {
      "cell_type": "code",
      "metadata": {
        "colab": {
          "base_uri": "https://localhost:8080/"
        },
        "id": "ebyOX60zjG0i",
        "outputId": "5cbb425b-cf8d-49fa-8171-946cf3a4f60a"
      },
      "source": [
        "#arranging bins of the histogram\n",
        "bins = np.arange(11) - 0.5\n",
        "#ploting the days of the week frequencies of all events\n",
        "plt.hist(data_events['dayofweek'], bins, rwidth=0.4)\n",
        "plt.ylabel('Events frequency')\n",
        "#days of week are expressed in number originaly (0 is monday, 6 is Sunday), so we give names instead of numbers\n",
        "plt.xticks(np.arange(7),['Monday', 'Tuesday', 'Wednesday', 'Thursday', 'Friday', 'Saturday', 'Sunday'], rotation=45)\n",
        "plt.xlim([-1, 7])\n",
        "\n",
        "\n",
        "plt.show()\n",
        "\n"
      ],
      "execution_count": null,
      "outputs": [
        {
          "output_type": "display_data",
          "data": {
            "image/png": "[encoded data removed]",
            "text/plain": [
              "<Figure size 432x288 with 1 Axes>"
            ]
          },
          "metadata": {
            "tags": [],
            "needs_background": "light"
          }
        }
      ]
    },
    {
      "cell_type": "markdown",
      "metadata": {
        "id": "vvP-__da3F68"
      },
      "source": [
        "We can see that visitors are most active from Monday to Thursday. On Friday and Satruday it's relatively quiet, but on Sunday we can see a big jump in activity"
      ]
    },
    {
      "cell_type": "markdown",
      "metadata": {
        "id": "I9q3yKDo6C9Y"
      },
      "source": [
        "Below is a plot of 130m e-commerce sales of 2019. So when comparing the two we can see they are pretty similar, but not enought to conclude that our data follows regular customers behaviour"
      ]
    },
    {
      "cell_type": "markdown",
      "metadata": {
        "id": "shoeGo_o55DE"
      },
      "source": [
        "![popular hours.PNG](data:image/png;base64,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)"
      ]
    },
    {
      "cell_type": "markdown",
      "metadata": {
        "id": "-UNnT62k6kHN"
      },
      "source": [
        "(Charlton, 2021)"
      ]
    },
    {
      "cell_type": "markdown",
      "metadata": {
        "id": "ciSrjKAD3egb"
      },
      "source": [
        "Now we will check the hours popularity"
      ]
    },
    {
      "cell_type": "code",
      "metadata": {
        "colab": {
          "base_uri": "https://localhost:8080/"
        },
        "id": "v3DQK_FhI7Gi",
        "outputId": "e1a0ec8a-6f71-4082-dea7-7959f42fd27e"
      },
      "source": [
        "plt.plot(data_events[['hour','itemid']].groupby('hour').sum())\n",
        "plt.xlabel('Hour')\n",
        "plt.ylabel('Events frequency')\n",
        "plt.tick_params(axis='y', \n",
        "                left=False,\n",
        "                bottom=False,\n",
        "                labelleft=False,\n",
        "                labelbottom=False)\n",
        "plt.show()"
      ],
      "execution_count": null,
      "outputs": [
        {
          "output_type": "display_data",
          "data": {
            "image/png": "[encoded data removed]",
            "text/plain": [
              "<Figure size 432x288 with 1 Axes>"
            ]
          },
          "metadata": {
            "tags": [],
            "needs_background": "light"
          }
        }
      ]
    },
    {
      "cell_type": "markdown",
      "metadata": {
        "id": "vsQHVDu_zn4I"
      },
      "source": [
        "From our data we can see that the popular hours don't really follow regular consumers patterns. From our data we see substantial activity from 00 till 5am, where as below there isn't. Also above we can see a drop in activity from 20pm whereas, below shows a strong increse in activity which peaks at around 22."
      ]
    },
    {
      "cell_type": "markdown",
      "metadata": {
        "id": "ncxAdHOGzPhf"
      },
      "source": [
        "![actual popular hours.PNG](data:image/png;base64,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)"
      ]
    },
    {
      "cell_type": "markdown",
      "metadata": {
        "id": "4I_WwV8K1HG-"
      },
      "source": [
        "(Charlton, 2021)"
      ]
    },
    {
      "cell_type": "markdown",
      "metadata": {
        "id": "OMTSo12NMYa_"
      },
      "source": [
        "The interest in products is cleary highest from 3pm to 8pm, but we can also see that it's quite big from 00 to 5am"
      ]
    },
    {
      "cell_type": "markdown",
      "metadata": {
        "id": "iuwgiwFJzclc"
      },
      "source": [
        "It would also be useful to see if there is any correlation between visitors activity and what day of the year it is"
      ]
    },
    {
      "cell_type": "code",
      "metadata": {
        "id": "geR6yVu5zqIq"
      },
      "source": [
        "def create_dataframe_time(visitor): #defining a function for data frame creation \n",
        "    #array that will hold the new dataframe\n",
        "    visitor_df_array = []\n",
        "\n",
        "    for x in visitor:\n",
        "\n",
        "        \n",
        "        #Creating dataframe that get the data about visitors accendigly from the timestamp from data_events dataframe \n",
        "        t_df =  v_df = data_events[data_events.visitorid == x]\n",
        "        #Creating a temporary array to hold all the visitors attributes\n",
        "        temp = []\n",
        "        #Populating array's first element with the current index\n",
        "        ##temp.append(x)\n",
        "        #Populating the array with the number of unique products viewed by the visitor (num_uniq_items_viewed)\n",
        "        tz = int(data_events.timestamp[x])\n",
        "        tz= tz // 1000  #remove last 3 digits, which are microseconds\n",
        "\n",
        "        #new_time = datetime.datetime.fromtimestamp(tz)\n",
        "        #final=new_time.strftime('%Y-%m-%d')\n",
        "        \n",
        "        temp.append(tz)\n",
        "        temp.append(t_df.visitorid.count())\n",
        "\n",
        "\n",
        "    #appending the visitor data frame array that holds all the attributes\n",
        "        visitor_df_array.append(temp)\n",
        "    #returning dataframe with all the attributes, and naming the collumns of the data frame    \n",
        "    return pd.DataFrame(visitor_df_array, columns=['timestamp', 'visitors_num'])"
      ],
      "execution_count": null,
      "outputs": []
    },
    {
      "cell_type": "code",
      "metadata": {
        "id": "BL7-2WmhMvV6"
      },
      "source": [
        "time_df=create_dataframe_time(buy_visitors)"
      ],
      "execution_count": null,
      "outputs": []
    },
    {
      "cell_type": "code",
      "metadata": {
        "colab": {
          "base_uri": "https://localhost:8080/"
        },
        "id": "c7HXwG4ckPiL",
        "outputId": "3105f477-6f32-462c-e1f3-01aea6e46066"
      },
      "source": [
        "\n",
        "date = time_df.timestamp\n",
        "\n",
        "#converting the epoch format to matplotlib date format \n",
        "mpl_data = mdates.epoch2num(date)\n",
        "\n",
        "\n",
        "#ploting the dates\n",
        "fig, ax = plt.subplots(1,1)\n",
        "ax.hist(mpl_data, bins=120, color='lightblue')\n",
        "\n",
        "\n",
        "#setting custom parrameters for the plot\n",
        "fig.set_size_inches(31, 10.5)\n",
        "#setting the plot to show dates in the interval of 3\n",
        "locator = mdates.DayLocator(interval=3)\n",
        "ax.xaxis.set_major_locator(locator)\n",
        "ax.xaxis.set_major_formatter(mdates.DateFormatter('%d.%m.%y'))\n",
        "plt.xticks(rotation=45)\n",
        "\n",
        "\n",
        "plt.show()\n",
        "\n"
      ],
      "execution_count": null,
      "outputs": [
        {
          "output_type": "display_data",
          "data": {
            "image/png": "[encoded data removed]",
            "text/plain": [
              "<Figure size 2232x756 with 1 Axes>"
            ]
          },
          "metadata": {
            "tags": [],
            "needs_background": "light"
          }
        }
      ]
    },
    {
      "cell_type": "markdown",
      "metadata": {
        "id": "xwxRu-iBeVrJ"
      },
      "source": [
        "From the graph above we can see that the spikes in sales are repetetive. And if we check which days of weeks the biggest spikes are on, we see that it's Tuesday and Wednesday. This suggests that the purchases aren't influenced by any kind special date events, holidays."
      ]
    },
    {
      "cell_type": "markdown",
      "metadata": {
        "id": "sLtu9tBt5h-M"
      },
      "source": [
        "###The outcome"
      ]
    },
    {
      "cell_type": "markdown",
      "metadata": {
        "id": "xiwbtbSXPFpQ"
      },
      "source": [
        "AS previously noted, the hours of activity don't follow regular consumers, the patter of week days isn't very close to regular consumer pattern, and also we don't see peaks, spikes in visitors activity based on holidays, date events. It seems that the main buyers could be businesses or people that need to restock on supplies, but further analysis is needed."
      ]
    },
    {
      "cell_type": "markdown",
      "metadata": {
        "id": "BjST2y8rco-a"
      },
      "source": [
        "#Customer Segmentation-subtask2. Interaction patterns\n"
      ]
    },
    {
      "cell_type": "markdown",
      "metadata": {
        "id": "y9X5C9fpPgMU"
      },
      "source": [
        "## The goal"
      ]
    },
    {
      "cell_type": "markdown",
      "metadata": {
        "id": "dYXr_ZJW7-Ju"
      },
      "source": [
        "Customer segmentation is the process of dividing customers into groups based on common characteristics so companies can market to each group effectively and appropriately. (Shopify, 2020)\n",
        "\n",
        "\n",
        "We thought it would be a good idea to see how many views does each customer makes. This could help to segment visitors because it would tell whether people mainly like to look at the items, but eventualy not buy anything, or do they know what they want to buy and just go buy it without looking at the items catalog much."
      ]
    },
    {
      "cell_type": "markdown",
      "metadata": {
        "id": "adPP5kQ_PpZ7"
      },
      "source": [
        "## The code"
      ]
    },
    {
      "cell_type": "code",
      "metadata": {
        "id": "oS3lLzGFcz-2",
        "colab": {
          "base_uri": "https://localhost:8080/"
        },
        "outputId": "c2a2bd62-27e7-4973-c114-a98af4d6f5a4"
      },
      "source": [
        "#Holds the amount of how many times each visitor has viewed the items\n",
        "x= data_events[data_events.event==\"view\"].visitorid.value_counts()\n",
        "\n",
        "\n",
        "plt.figure(1 , figsize = (20 , 8))\n",
        "plt.ylabel('Number of repetetive views')\n",
        "plt.xlabel('Number of customers')\n",
        "plt.hist(x, bins=3000, orientation=\"horizontal\")\n",
        "\n",
        "#setting limits for each axis so the histogram is easier to read\n",
        "plt.ylim([1, 50])\n",
        "plt.xlim([1, 100000])\n",
        "#customizing the ticks of the axes\n",
        "plt.yticks(np.arange(1, 50, 3))\n",
        "plt.show()\n",
        "\n",
        "\n",
        "\n"
      ],
      "execution_count": null,
      "outputs": [
        {
          "output_type": "display_data",
          "data": {
            "image/png": "[encoded data removed]",
            "text/plain": [
              "<Figure size 1440x576 with 1 Axes>"
            ]
          },
          "metadata": {
            "tags": [],
            "needs_background": "light"
          }
        }
      ]
    },
    {
      "cell_type": "markdown",
      "metadata": {
        "id": "O49qNRDMEpof"
      },
      "source": [
        "We can see that most of the time the visitors view the items only about 5 times. That suggests that there aren't many users that just like to browse  products, rather, it's likely they have made a decision what they will buy before looking at the items catalog. Even though the histogram shows the visitors who have viewed and bought, but also one who didn't buy anything eventualy, we saw previously that the views have very strong correlation to buying decision. Nonentheless we should make sure that average number of views before purchase, is actualy around 5-7."
      ]
    },
    {
      "cell_type": "code",
      "metadata": {
        "id": "vbI1Itqk7beT"
      },
      "source": [
        "# obtain vistor id,item id, and date time of 'tranaction'\n",
        "item_tra=data_events[['visitorid','itemid','date_time']][data_events['event']=='transaction']\n",
        "# obtain vistor id,item id, and date time of 'add to cart'\n",
        "item_atc=data_events[['visitorid','itemid','date_time']][data_events['event']=='addtocart']\n",
        "# obtain vistor id,item id, and date time of 'view'\n",
        "item_viw=data_events[['visitorid','itemid','date_time']][data_events['event']=='view']\n",
        "#CHANGE!!!"
      ],
      "execution_count": null,
      "outputs": []
    },
    {
      "cell_type": "code",
      "metadata": {
        "id": "5u3jIXCQDjgy"
      },
      "source": [
        "m=item_tra.merge(item_atc, how='inner', on=['visitorid','itemid'], suffixes=[' (transaction)', ' (add_to_cart)'])\n",
        "m=m.merge(item_viw, how='inner', on=['visitorid','itemid'])\n",
        "m=m.rename(columns={'date_time':'date_time (view)'})\n",
        "#CHANGE!!!"
      ],
      "execution_count": null,
      "outputs": []
    },
    {
      "cell_type": "code",
      "metadata": {
        "id": "WS3n2uCuEavr"
      },
      "source": [
        "m['date_time (transaction)']=pd.to_datetime(m['date_time (transaction)'])\n",
        "m['date_time (add_to_cart)']=pd.to_datetime(m['date_time (add_to_cart)'])\n",
        "m['date_time (view)']=pd.to_datetime(m['date_time (view)'])\n",
        "#CHANGE!!!"
      ],
      "execution_count": null,
      "outputs": []
    },
    {
      "cell_type": "code",
      "metadata": {
        "id": "Itt6SwC0Edlf"
      },
      "source": [
        "# the following dataframe is about the cases that a visitor viewed an item before making purchase decision\n",
        "\n",
        "# find rows with time difference is larger than 0 minute\n",
        "msk=(m['date_time (transaction)']-m['date_time (view)'])>np.timedelta64(0,'m')\n",
        "m1=m[msk]\n",
        "#CHANGE!!!"
      ],
      "execution_count": null,
      "outputs": []
    },
    {
      "cell_type": "code",
      "metadata": {
        "id": "BZM5uR-cEf6f",
        "colab": {
          "base_uri": "https://localhost:8080/"
        },
        "outputId": "e8f975f3-7205-4cad-8e17-8fb265bb55cc"
      },
      "source": [
        "# seperate multiple-view transaction and single-view transaction\n",
        "\n",
        "# using duplicated function\n",
        "mul_viw=m1.duplicated(subset=['visitorid','itemid'], keep=False)\n",
        "sig_viw=m1[~mul_viw]\n",
        "mul_viw=m1[mul_viw]\n",
        "\n",
        "# last occurrence in duplicates = view when a visitor made purchase\n",
        "# therefore, filter dataframe to leave only views before last occurence\n",
        "notlast=mul_viw.duplicated(subset=['visitorid','itemid'], keep='last')  # except for last occurance\n",
        "\n",
        "# count the number of view\n",
        "# obtain the average number of it\n",
        "avg_viw=mul_viw[notlast].groupby(['visitorid','itemid']).count()['date_time (view)'].mean()\n",
        "print('Average Number of Views Before Purchase: {0:.0f}'.format(avg_viw))\n",
        "#CHANGE!!!"
      ],
      "execution_count": null,
      "outputs": [
        {
          "output_type": "stream",
          "text": [
            "Average Number of Views Before Purchase: 4\n"
          ],
          "name": "stdout"
        }
      ]
    },
    {
      "cell_type": "markdown",
      "metadata": {
        "id": "CrIzShMAS5fp"
      },
      "source": [
        "## The outcome\n"
      ]
    },
    {
      "cell_type": "markdown",
      "metadata": {
        "id": "MBbaqH7FS8tP"
      },
      "source": [
        "The data shows that there are very little views before making a purchase. There also aren't many users that just like to look at items, products, because the view count of all visitors is around 5-7, rather it's likely they have made a decision what they will buy before looking at the items catalog. Having the previous conclusions in mind, it would be a good guess that one of the customers group, and the biggest group of buyers are people who buy items to restock. \n",
        "\n"
      ]
    },
    {
      "cell_type": "markdown",
      "metadata": {
        "id": "BGO3yKhlfD46"
      },
      "source": [
        "The graph above shows the accuracy of our binary classifier (Logistic Regression). Just means that the closer the orange curve leans to the top left hand part of the graph, the better the accuracy.\n"
      ]
    },
    {
      "cell_type": "markdown",
      "metadata": {
        "id": "nYc09VIHGARi"
      },
      "source": [
        "#Recommender systems - subtask3"
      ]
    },
    {
      "cell_type": "markdown",
      "metadata": {
        "id": "0AtCDw71GAOL"
      },
      "source": [
        "##Collaborative Filtering (CF)"
      ]
    },
    {
      "cell_type": "markdown",
      "metadata": {
        "id": "8xeLuPwd1xac"
      },
      "source": [
        "What is CF?\n",
        "* Collaborative filtering filters information by using the interactions and data collected by the system from other users. \n",
        "* It's based on the idea that people who agreed in their evaluation of certain items are likely to agree again in the future.\n",
        "* In short, if someone has similar purchasing history to me then I might like another item they have purchased.\n",
        "\n",
        "(Schafer, et al., 2007)\n"
      ]
    },
    {
      "cell_type": "markdown",
      "metadata": {
        "id": "n9VkBiP9bZLn"
      },
      "source": [
        "### Shared items recommender"
      ]
    },
    {
      "cell_type": "markdown",
      "metadata": {
        "id": "vWTM2yY0Z8Lp"
      },
      "source": [
        "####The goal"
      ]
    },
    {
      "cell_type": "markdown",
      "metadata": {
        "id": "B10WZeLf9tE9"
      },
      "source": [
        "First approach to make a product recommender we thought about is to take the items that 1 customer has bought and recommend items other customers bought with that item"
      ]
    },
    {
      "cell_type": "markdown",
      "metadata": {
        "id": "RlfyiAyZZ3w7"
      },
      "source": [
        "#### The code\n"
      ]
    },
    {
      "cell_type": "markdown",
      "metadata": {
        "id": "gp9DF1VG-l1y"
      },
      "source": [
        "Firstly we create a list that holds the customer orders and the items inside them"
      ]
    },
    {
      "cell_type": "code",
      "metadata": {
        "id": "NWVs9nMOVK-1"
      },
      "source": [
        "# Creating a list that will hold the list of each customers bought items\n",
        "purchased_items = []\n",
        "    \n",
        "\n",
        "for customer in buy_visitors:\n",
        "\n",
        "   #now we append each item a customer has bought in to the list \n",
        "    \n",
        "    purchased_items.append(list(data_events.loc[(data_events.visitorid == customer) & (data_events.transactionid.notnull())].itemid.values))            "
      ],
      "execution_count": null,
      "outputs": []
    },
    {
      "cell_type": "markdown",
      "metadata": {
        "id": "fRAeLXG1_jwQ"
      },
      "source": [
        "Write a function that would which would give list of items that were bought together with a specified item"
      ]
    },
    {
      "cell_type": "code",
      "metadata": {
        "id": "Voxd7sWvoEf4"
      },
      "source": [
        "def recommender_bought_bought(item_id, purchased_items):\n",
        "    \n",
        "    # Perhaps implement a binary search for that item id in the list of arrays\n",
        "    # Then put the arrays containing that item id in a new list\n",
        "    # Then merge all items in that list and get rid of duplicates\n",
        "    recommender_list = []\n",
        "    for x in purchased_items:\n",
        "        if item_id in x:\n",
        "            recommender_list += x\n",
        "    \n",
        "    #Then merge recommender list and remove the item id\n",
        "    recommender_list = list(set(recommender_list) - set([item_id]))\n",
        "    \n",
        "    return recommender_list"
      ],
      "execution_count": null,
      "outputs": []
    },
    {
      "cell_type": "markdown",
      "metadata": {
        "id": "qJYhNG950hyP"
      },
      "source": [
        "If we enter an item id here we will get a list of items that appeared in the orders with the specified item"
      ]
    },
    {
      "cell_type": "code",
      "metadata": {
        "colab": {
          "base_uri": "https://localhost:8080/"
        },
        "id": "WGX3gHkqX193",
        "outputId": "b1a7fb5d-d136-46d4-d25a-311448c12231"
      },
      "source": [
        "recommender_bought_bought(302422, purchased_items)"
      ],
      "execution_count": null,
      "outputs": [
        {
          "output_type": "execute_result",
          "data": {
            "text/plain": [
              "[105792, 200793, 12836, 80582, 380775, 15335, 400969, 25353, 237753, 317178]"
            ]
          },
          "metadata": {
            "tags": []
          },
          "execution_count": 63
        }
      ]
    },
    {
      "cell_type": "markdown",
      "metadata": {
        "id": "SxWjshklXWAO"
      },
      "source": [
        "We can also check for similar items to each item of a specificied customer. So if a customer has bought item \"2\" and item \"1\" here we will apply the method above and find items that are shared with item \"2\" and item \"1\". Here is a list of items that were ordered at least 3 other orders or times together with the items from our chosen customer (customer 172) order"
      ]
    },
    {
      "cell_type": "code",
      "metadata": {
        "colab": {
          "base_uri": "https://localhost:8080/"
        },
        "id": "4VFeu1_KFYF3",
        "outputId": "bc6a70e1-dc3d-49ca-e3f2-07332f63384f"
      },
      "source": [
        "\n",
        "#here you can enter preffered customer id in place of  \"172\"\n",
        "items_bought= list(data_events[data_events.visitorid==172].itemid.unique())\n",
        "\n",
        "\n",
        "\n",
        "allitems= []\n",
        "#creating a for loop that runs the lenght of the items_bought list\n",
        "for x in range(len(items_bought)):\n",
        "  #and for each of the items calls a function used previously\n",
        "    allitems += recommender_bought_bought(items_bought[x], purchased_items)\n",
        "\n",
        "\n",
        "\n",
        "print([itemy for itemy, count in collections.Counter(allitems).items() if count >= 3])\n",
        "\n"
      ],
      "execution_count": null,
      "outputs": [
        {
          "output_type": "stream",
          "text": [
            "[63543, 231482, 118914, 112782, 37029, 284871, 266439, 186702, 442725, 35202, 268883, 248455, 338660, 213834, 445351, 119736, 56323, 11279, 228392, 17478, 210002, 408737, 29863, 167126, 214271, 384302, 249247, 382419, 450082, 321089, 9877, 355994, 325310, 429765, 85774, 442131, 465522, 234255]\n"
          ],
          "name": "stdout"
        }
      ]
    },
    {
      "cell_type": "markdown",
      "metadata": {
        "id": "chy_yPMGaBSN"
      },
      "source": [
        "#### The outcome"
      ]
    },
    {
      "cell_type": "markdown",
      "metadata": {
        "id": "CaoFRaGtb9JK"
      },
      "source": [
        "These items could be recomended to our customer specified customer"
      ]
    },
    {
      "cell_type": "markdown",
      "metadata": {
        "id": "fJU3zhWgSq55"
      },
      "source": [
        "##Content-Based"
      ]
    },
    {
      "cell_type": "markdown",
      "metadata": {
        "id": "Dvj3cTbM3AIw"
      },
      "source": [
        "What is Content-Based Filtering?\n",
        "* Using item meta data, in this case the categoryid we can recommend similar items.\n",
        "* Ranking the most popular item in each category provides a useful way of aggregating the most highly desired items.\n",
        "(Meteren & Someren, 2013)"
      ]
    },
    {
      "cell_type": "markdown",
      "metadata": {
        "id": "TvQFCXEMd0OO"
      },
      "source": [
        "### Category Recommender"
      ]
    },
    {
      "cell_type": "markdown",
      "metadata": {
        "id": "xHjjA6cZSxEO"
      },
      "source": [
        "#### The Goal"
      ]
    },
    {
      "cell_type": "markdown",
      "metadata": {
        "id": "SRVWMbnNJuDK"
      },
      "source": [
        "Since we have a dataframe relating items to their categorys, perhaps we could recommend the most popular items in their respective categories."
      ]
    },
    {
      "cell_type": "markdown",
      "metadata": {
        "id": "VDeJkxeqTB65"
      },
      "source": [
        "#### The Code"
      ]
    },
    {
      "cell_type": "code",
      "metadata": {
        "id": "kY0JLFp6dxY5"
      },
      "source": [
        "#creating an array of customers who have purchased something\n",
        "customer_purchased = data_events[data_events.transactionid.notnull()].visitorid.unique()\n",
        "    \n",
        "purchased_items = []\n",
        "buyer = []\n",
        "    \n",
        "# Create another list that contains all their purchases \n",
        "for customer in customer_purchased:\n",
        "\n",
        "    #Generate a Pandas series type object containing all the visitor's purchases and put them in the list\n",
        "    buyer.append(customer)\n",
        "    purchased_items.append(list(data_events.loc[(data_events.visitorid == customer) & (data_events.transactionid.notnull())].itemid.values))\n",
        "       \n"
      ],
      "execution_count": null,
      "outputs": []
    },
    {
      "cell_type": "code",
      "metadata": {
        "id": "q6kr2JVu8ZkO",
        "colab": {
          "base_uri": "https://localhost:8080/",
          "height": 197
        },
        "outputId": "e1042773-f279-4a88-a796-633a91371b7a"
      },
      "source": [
        "#Creating a purchased items dataframe\n",
        "purchased_items_df = pd.DataFrame({\"Purchased_items\":purchased_items})\n",
        "purchased_items_df.head()"
      ],
      "execution_count": null,
      "outputs": [
        {
          "output_type": "execute_result",
          "data": {
            "text/html": [
              "<div>\n",
              "<style scoped>\n",
              "    .dataframe tbody tr th:only-of-type {\n",
              "        vertical-align: middle;\n",
              "    }\n",
              "\n",
              "    .dataframe tbody tr th {\n",
              "        vertical-align: top;\n",
              "    }\n",
              "\n",
              "    .dataframe thead th {\n",
              "        text-align: right;\n",
              "    }\n",
              "</style>\n",
              "<table border=\"1\" class=\"dataframe\">\n",
              "  <thead>\n",
              "    <tr style=\"text-align: right;\">\n",
              "      <th></th>\n",
              "      <th>Purchased_items</th>\n",
              "    </tr>\n",
              "  </thead>\n",
              "  <tbody>\n",
              "    <tr>\n",
              "      <th>0</th>\n",
              "      <td>[356475]</td>\n",
              "    </tr>\n",
              "    <tr>\n",
              "      <th>1</th>\n",
              "      <td>[15335, 380775, 237753, 317178, 12836, 400969,...</td>\n",
              "    </tr>\n",
              "    <tr>\n",
              "      <th>2</th>\n",
              "      <td>[81345]</td>\n",
              "    </tr>\n",
              "    <tr>\n",
              "      <th>3</th>\n",
              "      <td>[150318, 49521]</td>\n",
              "    </tr>\n",
              "    <tr>\n",
              "      <th>4</th>\n",
              "      <td>[310791, 299044]</td>\n",
              "    </tr>\n",
              "  </tbody>\n",
              "</table>\n",
              "</div>"
            ],
            "text/plain": [
              "                                     Purchased_items\n",
              "0                                           [356475]\n",
              "1  [15335, 380775, 237753, 317178, 12836, 400969,...\n",
              "2                                            [81345]\n",
              "3                                    [150318, 49521]\n",
              "4                                   [310791, 299044]"
            ]
          },
          "metadata": {
            "tags": []
          },
          "execution_count": 66
        }
      ]
    },
    {
      "cell_type": "code",
      "metadata": {
        "id": "5b69pEQS87rx",
        "colab": {
          "base_uri": "https://localhost:8080/",
          "height": 197
        },
        "outputId": "d41ecec3-644a-4049-823b-7aae70a72484"
      },
      "source": [
        "buyer_df = pd.DataFrame({\"Buyer\":buyer, \"Purchased_items\":purchased_items})\n",
        "buyer_df.head()"
      ],
      "execution_count": null,
      "outputs": [
        {
          "output_type": "execute_result",
          "data": {
            "text/html": [
              "<div>\n",
              "<style scoped>\n",
              "    .dataframe tbody tr th:only-of-type {\n",
              "        vertical-align: middle;\n",
              "    }\n",
              "\n",
              "    .dataframe tbody tr th {\n",
              "        vertical-align: top;\n",
              "    }\n",
              "\n",
              "    .dataframe thead th {\n",
              "        text-align: right;\n",
              "    }\n",
              "</style>\n",
              "<table border=\"1\" class=\"dataframe\">\n",
              "  <thead>\n",
              "    <tr style=\"text-align: right;\">\n",
              "      <th></th>\n",
              "      <th>Buyer</th>\n",
              "      <th>Purchased_items</th>\n",
              "    </tr>\n",
              "  </thead>\n",
              "  <tbody>\n",
              "    <tr>\n",
              "      <th>0</th>\n",
              "      <td>599528</td>\n",
              "      <td>[356475]</td>\n",
              "    </tr>\n",
              "    <tr>\n",
              "      <th>1</th>\n",
              "      <td>121688</td>\n",
              "      <td>[15335, 380775, 237753, 317178, 12836, 400969,...</td>\n",
              "    </tr>\n",
              "    <tr>\n",
              "      <th>2</th>\n",
              "      <td>552148</td>\n",
              "      <td>[81345]</td>\n",
              "    </tr>\n",
              "    <tr>\n",
              "      <th>3</th>\n",
              "      <td>102019</td>\n",
              "      <td>[150318, 49521]</td>\n",
              "    </tr>\n",
              "    <tr>\n",
              "      <th>4</th>\n",
              "      <td>189384</td>\n",
              "      <td>[310791, 299044]</td>\n",
              "    </tr>\n",
              "  </tbody>\n",
              "</table>\n",
              "</div>"
            ],
            "text/plain": [
              "    Buyer                                    Purchased_items\n",
              "0  599528                                           [356475]\n",
              "1  121688  [15335, 380775, 237753, 317178, 12836, 400969,...\n",
              "2  552148                                            [81345]\n",
              "3  102019                                    [150318, 49521]\n",
              "4  189384                                   [310791, 299044]"
            ]
          },
          "metadata": {
            "tags": []
          },
          "execution_count": 67
        }
      ]
    },
    {
      "cell_type": "code",
      "metadata": {
        "id": "FkuElvgs_ISE"
      },
      "source": [
        "#function for getting item_id's based on purchases and categoryid\n",
        "#NOTE: Some Items appear to not have categoryID's\n",
        "#Something that could be added here is selected the most popular category from that person or combine with previous section and find most popular category based on other people who have similiar purchases.\n",
        "\n",
        "def cat_recommender_top3(visitor):\n",
        "\n",
        "  #get an array of all items bought by a customer\n",
        "  purchased_item_ID = buyer_df.loc[buyer_df['Buyer'] == visitor, 'Purchased_items'].iloc[0]\n",
        "  recommended_items = pd.DataFrame()\n",
        "  popular_recommended = pd.DataFrame()\n",
        "  #loop through array\n",
        "  for x in purchased_item_ID:\n",
        "\n",
        "    #check if the itemid exists in the table\n",
        "    if x in item_category['itemid'].values:\n",
        "\n",
        "      #find categoryid for that item\n",
        "      categoryid = item_category.loc[item_category['itemid'] == x, 'categoryid'].iloc[0]\n",
        "\n",
        "      #return all items with that categoryid\n",
        "      i = pd.DataFrame(item_category.loc[item_category['categoryid'] == categoryid, 'itemid'])\n",
        "\n",
        "      #add to recommended_items\n",
        "      recommended_items = pd.concat([recommended_items, i])\n",
        "\n",
        "  #check if dataframe is empty\n",
        "  if not recommended_items.empty:\n",
        "\n",
        "    #give the column a name\n",
        "    recommended_items.columns = ['itemid']\n",
        "    #reset index\n",
        "    recommended_items = pd.DataFrame(recommended_items).reset_index()\n",
        "\n",
        "    #loop through recommended items and find the most frequently sold\n",
        "    for x in range(len(recommended_items)):\n",
        "      searchid = recommended_items.loc[x, 'itemid']\n",
        "      z = pd.DataFrame(transaction.loc[transaction['itemid'] == searchid])\n",
        "      popular_recommended = pd.concat([popular_recommended, z])\n",
        "\n",
        "    #order by count in ascending order\n",
        "    popular_recommended = popular_recommended.sort_values('transaction', ascending = False)\n",
        "\n",
        "    #drop the count column\n",
        "    popular_recommended = popular_recommended.drop(['transaction'], axis = 1)\n",
        "\n",
        "    #top 3\n",
        "    popular_recommended = popular_recommended.head(3)\n",
        "\n",
        "    return popular_recommended\n",
        "\n",
        "  else:\n",
        "\n",
        "    return \"No Items to recommend\"\n",
        "\n",
        "\n"
      ],
      "execution_count": null,
      "outputs": []
    },
    {
      "cell_type": "code",
      "metadata": {
        "id": "w6-T_JmwWrGe",
        "colab": {
          "base_uri": "https://localhost:8080/"
        },
        "outputId": "6f16197d-5a34-4154-a094-3c89a650e440"
      },
      "source": [
        "print(cat_recommender_top3(121688)) #provide visitor ID"
      ],
      "execution_count": null,
      "outputs": [
        {
          "output_type": "stream",
          "text": [
            "    itemid\n",
            "3   312728\n",
            "8   420960\n",
            "15  268883\n"
          ],
          "name": "stdout"
        }
      ]
    },
    {
      "cell_type": "markdown",
      "metadata": {
        "id": "VDkuvqYvaFMR"
      },
      "source": [
        "#### The Outcome"
      ]
    },
    {
      "cell_type": "markdown",
      "metadata": {
        "id": "R9B-bnXTTIex"
      },
      "source": [
        "The cat_recommender_top3 recommends the top 3 items within a visitor's favourite category, this could be used in conjuction with the CF recommender to provide some form of hybrid recommendation"
      ]
    },
    {
      "cell_type": "markdown",
      "metadata": {
        "id": "Zvy5w64Qypb5"
      },
      "source": [
        "##Apriori\n"
      ]
    },
    {
      "cell_type": "markdown",
      "metadata": {
        "id": "ReBP8xMy4hiw"
      },
      "source": [
        "### Apriori Algorithm \n",
        "\n"
      ]
    },
    {
      "cell_type": "markdown",
      "metadata": {
        "id": "3RKxqwtz5w45"
      },
      "source": [
        "What is Aproiri?\n",
        "Apriori is an algorithm for frequent item set mining and association rule learning over a dataset. It proceeds by identifying the frequent individual items in the dataset and extending them to larger and larger item sets as long as those item sets appear sufficiently often in the database. The frequent item sets determined by Apriori can be used to determine association rules which highlight general trends in the dataset. (Agrawal & Srikant, 2001).\n"
      ]
    },
    {
      "cell_type": "markdown",
      "metadata": {
        "id": "P-wDRfkOSUrB"
      },
      "source": [
        "### The Goal"
      ]
    },
    {
      "cell_type": "markdown",
      "metadata": {
        "id": "zkmrRx-Sqx7x"
      },
      "source": [
        "Apriori is an algorithm for frequent item set mining and association rule learning. Essentially the hope is that by applying this algorithm to the dataset we will discover links or \"rules\" which bind items together. This can then be used to recommend items to a user"
      ]
    },
    {
      "cell_type": "markdown",
      "metadata": {
        "id": "UvuK3gu2SQqi"
      },
      "source": [
        "### The Code"
      ]
    },
    {
      "cell_type": "code",
      "metadata": {
        "id": "lPDNHygxqy2K"
      },
      "source": [
        "# Firstly let's create an array that lists visitors who made a purchase\n",
        "customer_purchased = data_events[data_events.transactionid.notnull()].visitorid.unique()\n",
        "    \n",
        "purchased_items = []\n",
        "    \n",
        "# Create another list that contains all their purchases \n",
        "for customer in customer_purchased:\n",
        "\n",
        "    #Generate a Pandas series type object containing all the visitor's purchases and put them in the list\n",
        "    purchased_items.append(list(data_events.loc[(data_events.visitorid == customer) & (data_events.transactionid.notnull())].itemid.values))    "
      ],
      "execution_count": null,
      "outputs": []
    },
    {
      "cell_type": "code",
      "metadata": {
        "id": "i7xuKTiEq3j5",
        "colab": {
          "base_uri": "https://localhost:8080/"
        },
        "outputId": "f72b5125-3846-40cf-e4aa-0c16925cf09b"
      },
      "source": [
        "# Number of unique items in transactions\n",
        "data_events.loc[data_events.transactionid.notnull(), 'itemid'].unique().size"
      ],
      "execution_count": null,
      "outputs": [
        {
          "output_type": "execute_result",
          "data": {
            "text/plain": [
              "12025"
            ]
          },
          "metadata": {
            "tags": []
          },
          "execution_count": 83
        }
      ]
    },
    {
      "cell_type": "code",
      "metadata": {
        "id": "1iDuGDjRq5l5",
        "colab": {
          "base_uri": "https://localhost:8080/"
        },
        "outputId": "7f3f30f4-c207-4799-a4a1-4f959b6f0a9b"
      },
      "source": [
        "#Here we can find the biggest order size. \n",
        "max_len=0\n",
        "for x in purchased_items:\n",
        "    if len(x) > max_len:\n",
        "        max_len = len(x)\n",
        "        \n",
        "print(f'Biggest purchase size: {max_len} items')"
      ],
      "execution_count": null,
      "outputs": [
        {
          "output_type": "stream",
          "text": [
            "Biggest purchase size: 559 items\n"
          ],
          "name": "stdout"
        }
      ]
    },
    {
      "cell_type": "markdown",
      "metadata": {
        "id": "tFPAjwKGq9xp"
      },
      "source": [
        "Using and TransactionEncoder object, we can transform this dataset into an array format suitable for typical machine learning APIs. Via the fit method, the TransactionEncoder learns the unique labels in the dataset, and via the transform method, it transforms the input dataset (a Python list of lists) into a one-hot encoded NumPy boolean array:"
      ]
    },
    {
      "cell_type": "code",
      "metadata": {
        "id": "IrLhPvJwq-pD",
        "colab": {
          "base_uri": "https://localhost:8080/"
        },
        "outputId": "3d2585fd-4fa8-4dc7-d541-f0e88e64c359"
      },
      "source": [
        "te = TransactionEncoder()\n",
        "te_ary = te.fit(purchased_items).transform(purchased_items)\n",
        "df_pi = pd.DataFrame(te_ary, columns=te.columns_)\n",
        "df_pi.shape"
      ],
      "execution_count": null,
      "outputs": [
        {
          "output_type": "execute_result",
          "data": {
            "text/plain": [
              "(11719, 12025)"
            ]
          },
          "metadata": {
            "tags": []
          },
          "execution_count": 85
        }
      ]
    },
    {
      "cell_type": "code",
      "metadata": {
        "id": "HZoTk9mcq_1b",
        "colab": {
          "base_uri": "https://localhost:8080/",
          "height": 246
        },
        "outputId": "94d09210-b3bc-4e8d-de60-8dcb27b9f9f9"
      },
      "source": [
        "df_pi.head()"
      ],
      "execution_count": null,
      "outputs": [
        {
          "output_type": "execute_result",
          "data": {
            "text/html": [
              "<div>\n",
              "<style scoped>\n",
              "    .dataframe tbody tr th:only-of-type {\n",
              "        vertical-align: middle;\n",
              "    }\n",
              "\n",
              "    .dataframe tbody tr th {\n",
              "        vertical-align: top;\n",
              "    }\n",
              "\n",
              "    .dataframe thead th {\n",
              "        text-align: right;\n",
              "    }\n",
              "</style>\n",
              "<table border=\"1\" class=\"dataframe\">\n",
              "  <thead>\n",
              "    <tr style=\"text-align: right;\">\n",
              "      <th></th>\n",
              "      <th>15</th>\n",
              "      <th>19</th>\n",
              "      <th>25</th>\n",
              "      <th>42</th>\n",
              "      <th>147</th>\n",
              "      <th>168</th>\n",
              "      <th>199</th>\n",
              "      <th>212</th>\n",
              "      <th>233</th>\n",
              "      <th>304</th>\n",
              "      <th>320</th>\n",
              "      <th>387</th>\n",
              "      <th>403</th>\n",
              "      <th>496</th>\n",
              "      <th>546</th>\n",
              "      <th>563</th>\n",
              "      <th>572</th>\n",
              "      <th>651</th>\n",
              "      <th>655</th>\n",
              "      <th>698</th>\n",
              "      <th>720</th>\n",
              "      <th>821</th>\n",
              "      <th>822</th>\n",
              "      <th>829</th>\n",
              "      <th>835</th>\n",
              "      <th>856</th>\n",
              "      <th>869</th>\n",
              "      <th>909</th>\n",
              "      <th>963</th>\n",
              "      <th>1022</th>\n",
              "      <th>1035</th>\n",
              "      <th>1090</th>\n",
              "      <th>1115</th>\n",
              "      <th>1152</th>\n",
              "      <th>1164</th>\n",
              "      <th>1171</th>\n",
              "      <th>1211</th>\n",
              "      <th>1255</th>\n",
              "      <th>1261</th>\n",
              "      <th>1267</th>\n",
              "      <th>...</th>\n",
              "      <th>465455</th>\n",
              "      <th>465470</th>\n",
              "      <th>465472</th>\n",
              "      <th>465495</th>\n",
              "      <th>465511</th>\n",
              "      <th>465522</th>\n",
              "      <th>465554</th>\n",
              "      <th>465565</th>\n",
              "      <th>465606</th>\n",
              "      <th>465616</th>\n",
              "      <th>465622</th>\n",
              "      <th>465650</th>\n",
              "      <th>465680</th>\n",
              "      <th>465751</th>\n",
              "      <th>465811</th>\n",
              "      <th>465824</th>\n",
              "      <th>465833</th>\n",
              "      <th>465922</th>\n",
              "      <th>465943</th>\n",
              "      <th>465951</th>\n",
              "      <th>465977</th>\n",
              "      <th>466008</th>\n",
              "      <th>466079</th>\n",
              "      <th>466109</th>\n",
              "      <th>466114</th>\n",
              "      <th>466135</th>\n",
              "      <th>466161</th>\n",
              "      <th>466259</th>\n",
              "      <th>466263</th>\n",
              "      <th>466301</th>\n",
              "      <th>466319</th>\n",
              "      <th>466321</th>\n",
              "      <th>466342</th>\n",
              "      <th>466443</th>\n",
              "      <th>466464</th>\n",
              "      <th>466526</th>\n",
              "      <th>466603</th>\n",
              "      <th>466614</th>\n",
              "      <th>466710</th>\n",
              "      <th>466861</th>\n",
              "    </tr>\n",
              "  </thead>\n",
              "  <tbody>\n",
              "    <tr>\n",
              "      <th>0</th>\n",
              "      <td>False</td>\n",
              "      <td>False</td>\n",
              "      <td>False</td>\n",
              "      <td>False</td>\n",
              "      <td>False</td>\n",
              "      <td>False</td>\n",
              "      <td>False</td>\n",
              "      <td>False</td>\n",
              "      <td>False</td>\n",
              "      <td>False</td>\n",
              "      <td>False</td>\n",
              "      <td>False</td>\n",
              "      <td>False</td>\n",
              "      <td>False</td>\n",
              "      <td>False</td>\n",
              "      <td>False</td>\n",
              "      <td>False</td>\n",
              "      <td>False</td>\n",
              "      <td>False</td>\n",
              "      <td>False</td>\n",
              "      <td>False</td>\n",
              "      <td>False</td>\n",
              "      <td>False</td>\n",
              "      <td>False</td>\n",
              "      <td>False</td>\n",
              "      <td>False</td>\n",
              "      <td>False</td>\n",
              "      <td>False</td>\n",
              "      <td>False</td>\n",
              "      <td>False</td>\n",
              "      <td>False</td>\n",
              "      <td>False</td>\n",
              "      <td>False</td>\n",
              "      <td>False</td>\n",
              "      <td>False</td>\n",
              "      <td>False</td>\n",
              "      <td>False</td>\n",
              "      <td>False</td>\n",
              "      <td>False</td>\n",
              "      <td>False</td>\n",
              "      <td>...</td>\n",
              "      <td>False</td>\n",
              "      <td>False</td>\n",
              "      <td>False</td>\n",
              "      <td>False</td>\n",
              "      <td>False</td>\n",
              "      <td>False</td>\n",
              "      <td>False</td>\n",
              "      <td>False</td>\n",
              "      <td>False</td>\n",
              "      <td>False</td>\n",
              "      <td>False</td>\n",
              "      <td>False</td>\n",
              "      <td>False</td>\n",
              "      <td>False</td>\n",
              "      <td>False</td>\n",
              "      <td>False</td>\n",
              "      <td>False</td>\n",
              "      <td>False</td>\n",
              "      <td>False</td>\n",
              "      <td>False</td>\n",
              "      <td>False</td>\n",
              "      <td>False</td>\n",
              "      <td>False</td>\n",
              "      <td>False</td>\n",
              "      <td>False</td>\n",
              "      <td>False</td>\n",
              "      <td>False</td>\n",
              "      <td>False</td>\n",
              "      <td>False</td>\n",
              "      <td>False</td>\n",
              "      <td>False</td>\n",
              "      <td>False</td>\n",
              "      <td>False</td>\n",
              "      <td>False</td>\n",
              "      <td>False</td>\n",
              "      <td>False</td>\n",
              "      <td>False</td>\n",
              "      <td>False</td>\n",
              "      <td>False</td>\n",
              "      <td>False</td>\n",
              "    </tr>\n",
              "    <tr>\n",
              "      <th>1</th>\n",
              "      <td>False</td>\n",
              "      <td>False</td>\n",
              "      <td>False</td>\n",
              "      <td>False</td>\n",
              "      <td>False</td>\n",
              "      <td>False</td>\n",
              "      <td>False</td>\n",
              "      <td>False</td>\n",
              "      <td>False</td>\n",
              "      <td>False</td>\n",
              "      <td>False</td>\n",
              "      <td>False</td>\n",
              "      <td>False</td>\n",
              "      <td>False</td>\n",
              "      <td>False</td>\n",
              "      <td>False</td>\n",
              "      <td>False</td>\n",
              "      <td>False</td>\n",
              "      <td>False</td>\n",
              "      <td>False</td>\n",
              "      <td>False</td>\n",
              "      <td>False</td>\n",
              "      <td>False</td>\n",
              "      <td>False</td>\n",
              "      <td>False</td>\n",
              "      <td>False</td>\n",
              "      <td>False</td>\n",
              "      <td>False</td>\n",
              "      <td>False</td>\n",
              "      <td>False</td>\n",
              "      <td>False</td>\n",
              "      <td>False</td>\n",
              "      <td>False</td>\n",
              "      <td>False</td>\n",
              "      <td>False</td>\n",
              "      <td>False</td>\n",
              "      <td>False</td>\n",
              "      <td>False</td>\n",
              "      <td>False</td>\n",
              "      <td>False</td>\n",
              "      <td>...</td>\n",
              "      <td>False</td>\n",
              "      <td>False</td>\n",
              "      <td>False</td>\n",
              "      <td>False</td>\n",
              "      <td>False</td>\n",
              "      <td>False</td>\n",
              "      <td>False</td>\n",
              "      <td>False</td>\n",
              "      <td>False</td>\n",
              "      <td>False</td>\n",
              "      <td>False</td>\n",
              "      <td>False</td>\n",
              "      <td>False</td>\n",
              "      <td>False</td>\n",
              "      <td>False</td>\n",
              "      <td>False</td>\n",
              "      <td>False</td>\n",
              "      <td>False</td>\n",
              "      <td>False</td>\n",
              "      <td>False</td>\n",
              "      <td>False</td>\n",
              "      <td>False</td>\n",
              "      <td>False</td>\n",
              "      <td>False</td>\n",
              "      <td>False</td>\n",
              "      <td>False</td>\n",
              "      <td>False</td>\n",
              "      <td>False</td>\n",
              "      <td>False</td>\n",
              "      <td>False</td>\n",
              "      <td>False</td>\n",
              "      <td>False</td>\n",
              "      <td>False</td>\n",
              "      <td>False</td>\n",
              "      <td>False</td>\n",
              "      <td>False</td>\n",
              "      <td>False</td>\n",
              "      <td>False</td>\n",
              "      <td>False</td>\n",
              "      <td>False</td>\n",
              "    </tr>\n",
              "    <tr>\n",
              "      <th>2</th>\n",
              "      <td>False</td>\n",
              "      <td>False</td>\n",
              "      <td>False</td>\n",
              "      <td>False</td>\n",
              "      <td>False</td>\n",
              "      <td>False</td>\n",
              "      <td>False</td>\n",
              "      <td>False</td>\n",
              "      <td>False</td>\n",
              "      <td>False</td>\n",
              "      <td>False</td>\n",
              "      <td>False</td>\n",
              "      <td>False</td>\n",
              "      <td>False</td>\n",
              "      <td>False</td>\n",
              "      <td>False</td>\n",
              "      <td>False</td>\n",
              "      <td>False</td>\n",
              "      <td>False</td>\n",
              "      <td>False</td>\n",
              "      <td>False</td>\n",
              "      <td>False</td>\n",
              "      <td>False</td>\n",
              "      <td>False</td>\n",
              "      <td>False</td>\n",
              "      <td>False</td>\n",
              "      <td>False</td>\n",
              "      <td>False</td>\n",
              "      <td>False</td>\n",
              "      <td>False</td>\n",
              "      <td>False</td>\n",
              "      <td>False</td>\n",
              "      <td>False</td>\n",
              "      <td>False</td>\n",
              "      <td>False</td>\n",
              "      <td>False</td>\n",
              "      <td>False</td>\n",
              "      <td>False</td>\n",
              "      <td>False</td>\n",
              "      <td>False</td>\n",
              "      <td>...</td>\n",
              "      <td>False</td>\n",
              "      <td>False</td>\n",
              "      <td>False</td>\n",
              "      <td>False</td>\n",
              "      <td>False</td>\n",
              "      <td>False</td>\n",
              "      <td>False</td>\n",
              "      <td>False</td>\n",
              "      <td>False</td>\n",
              "      <td>False</td>\n",
              "      <td>False</td>\n",
              "      <td>False</td>\n",
              "      <td>False</td>\n",
              "      <td>False</td>\n",
              "      <td>False</td>\n",
              "      <td>False</td>\n",
              "      <td>False</td>\n",
              "      <td>False</td>\n",
              "      <td>False</td>\n",
              "      <td>False</td>\n",
              "      <td>False</td>\n",
              "      <td>False</td>\n",
              "      <td>False</td>\n",
              "      <td>False</td>\n",
              "      <td>False</td>\n",
              "      <td>False</td>\n",
              "      <td>False</td>\n",
              "      <td>False</td>\n",
              "      <td>False</td>\n",
              "      <td>False</td>\n",
              "      <td>False</td>\n",
              "      <td>False</td>\n",
              "      <td>False</td>\n",
              "      <td>False</td>\n",
              "      <td>False</td>\n",
              "      <td>False</td>\n",
              "      <td>False</td>\n",
              "      <td>False</td>\n",
              "      <td>False</td>\n",
              "      <td>False</td>\n",
              "    </tr>\n",
              "    <tr>\n",
              "      <th>3</th>\n",
              "      <td>False</td>\n",
              "      <td>False</td>\n",
              "      <td>False</td>\n",
              "      <td>False</td>\n",
              "      <td>False</td>\n",
              "      <td>False</td>\n",
              "      <td>False</td>\n",
              "      <td>False</td>\n",
              "      <td>False</td>\n",
              "      <td>False</td>\n",
              "      <td>False</td>\n",
              "      <td>False</td>\n",
              "      <td>False</td>\n",
              "      <td>False</td>\n",
              "      <td>False</td>\n",
              "      <td>False</td>\n",
              "      <td>False</td>\n",
              "      <td>False</td>\n",
              "      <td>False</td>\n",
              "      <td>False</td>\n",
              "      <td>False</td>\n",
              "      <td>False</td>\n",
              "      <td>False</td>\n",
              "      <td>False</td>\n",
              "      <td>False</td>\n",
              "      <td>False</td>\n",
              "      <td>False</td>\n",
              "      <td>False</td>\n",
              "      <td>False</td>\n",
              "      <td>False</td>\n",
              "      <td>False</td>\n",
              "      <td>False</td>\n",
              "      <td>False</td>\n",
              "      <td>False</td>\n",
              "      <td>False</td>\n",
              "      <td>False</td>\n",
              "      <td>False</td>\n",
              "      <td>False</td>\n",
              "      <td>False</td>\n",
              "      <td>False</td>\n",
              "      <td>...</td>\n",
              "      <td>False</td>\n",
              "      <td>False</td>\n",
              "      <td>False</td>\n",
              "      <td>False</td>\n",
              "      <td>False</td>\n",
              "      <td>False</td>\n",
              "      <td>False</td>\n",
              "      <td>False</td>\n",
              "      <td>False</td>\n",
              "      <td>False</td>\n",
              "      <td>False</td>\n",
              "      <td>False</td>\n",
              "      <td>False</td>\n",
              "      <td>False</td>\n",
              "      <td>False</td>\n",
              "      <td>False</td>\n",
              "      <td>False</td>\n",
              "      <td>False</td>\n",
              "      <td>False</td>\n",
              "      <td>False</td>\n",
              "      <td>False</td>\n",
              "      <td>False</td>\n",
              "      <td>False</td>\n",
              "      <td>False</td>\n",
              "      <td>False</td>\n",
              "      <td>False</td>\n",
              "      <td>False</td>\n",
              "      <td>False</td>\n",
              "      <td>False</td>\n",
              "      <td>False</td>\n",
              "      <td>False</td>\n",
              "      <td>False</td>\n",
              "      <td>False</td>\n",
              "      <td>False</td>\n",
              "      <td>False</td>\n",
              "      <td>False</td>\n",
              "      <td>False</td>\n",
              "      <td>False</td>\n",
              "      <td>False</td>\n",
              "      <td>False</td>\n",
              "    </tr>\n",
              "    <tr>\n",
              "      <th>4</th>\n",
              "      <td>False</td>\n",
              "      <td>False</td>\n",
              "      <td>False</td>\n",
              "      <td>False</td>\n",
              "      <td>False</td>\n",
              "      <td>False</td>\n",
              "      <td>False</td>\n",
              "      <td>False</td>\n",
              "      <td>False</td>\n",
              "      <td>False</td>\n",
              "      <td>False</td>\n",
              "      <td>False</td>\n",
              "      <td>False</td>\n",
              "      <td>False</td>\n",
              "      <td>False</td>\n",
              "      <td>False</td>\n",
              "      <td>False</td>\n",
              "      <td>False</td>\n",
              "      <td>False</td>\n",
              "      <td>False</td>\n",
              "      <td>False</td>\n",
              "      <td>False</td>\n",
              "      <td>False</td>\n",
              "      <td>False</td>\n",
              "      <td>False</td>\n",
              "      <td>False</td>\n",
              "      <td>False</td>\n",
              "      <td>False</td>\n",
              "      <td>False</td>\n",
              "      <td>False</td>\n",
              "      <td>False</td>\n",
              "      <td>False</td>\n",
              "      <td>False</td>\n",
              "      <td>False</td>\n",
              "      <td>False</td>\n",
              "      <td>False</td>\n",
              "      <td>False</td>\n",
              "      <td>False</td>\n",
              "      <td>False</td>\n",
              "      <td>False</td>\n",
              "      <td>...</td>\n",
              "      <td>False</td>\n",
              "      <td>False</td>\n",
              "      <td>False</td>\n",
              "      <td>False</td>\n",
              "      <td>False</td>\n",
              "      <td>False</td>\n",
              "      <td>False</td>\n",
              "      <td>False</td>\n",
              "      <td>False</td>\n",
              "      <td>False</td>\n",
              "      <td>False</td>\n",
              "      <td>False</td>\n",
              "      <td>False</td>\n",
              "      <td>False</td>\n",
              "      <td>False</td>\n",
              "      <td>False</td>\n",
              "      <td>False</td>\n",
              "      <td>False</td>\n",
              "      <td>False</td>\n",
              "      <td>False</td>\n",
              "      <td>False</td>\n",
              "      <td>False</td>\n",
              "      <td>False</td>\n",
              "      <td>False</td>\n",
              "      <td>False</td>\n",
              "      <td>False</td>\n",
              "      <td>False</td>\n",
              "      <td>False</td>\n",
              "      <td>False</td>\n",
              "      <td>False</td>\n",
              "      <td>False</td>\n",
              "      <td>False</td>\n",
              "      <td>False</td>\n",
              "      <td>False</td>\n",
              "      <td>False</td>\n",
              "      <td>False</td>\n",
              "      <td>False</td>\n",
              "      <td>False</td>\n",
              "      <td>False</td>\n",
              "      <td>False</td>\n",
              "    </tr>\n",
              "  </tbody>\n",
              "</table>\n",
              "<p>5 rows × 12025 columns</p>\n",
              "</div>"
            ],
            "text/plain": [
              "   15      19      25      42      ...  466603  466614  466710  466861\n",
              "0   False   False   False   False  ...   False   False   False   False\n",
              "1   False   False   False   False  ...   False   False   False   False\n",
              "2   False   False   False   False  ...   False   False   False   False\n",
              "3   False   False   False   False  ...   False   False   False   False\n",
              "4   False   False   False   False  ...   False   False   False   False\n",
              "\n",
              "[5 rows x 12025 columns]"
            ]
          },
          "metadata": {
            "tags": []
          },
          "execution_count": 86
        }
      ]
    },
    {
      "cell_type": "code",
      "metadata": {
        "id": "h00AgZ9LrA0T",
        "colab": {
          "base_uri": "https://localhost:8080/",
          "height": 197
        },
        "outputId": "c5c8db7b-7ad8-4590-b610-ca8a00c448f1"
      },
      "source": [
        "#this returns the support value for each itemset, this is used in creating rules later on\n",
        "frq_items = apriori(df_pi, min_support=0.001)\n",
        "frq_items.head()"
      ],
      "execution_count": null,
      "outputs": [
        {
          "output_type": "execute_result",
          "data": {
            "text/html": [
              "<div>\n",
              "<style scoped>\n",
              "    .dataframe tbody tr th:only-of-type {\n",
              "        vertical-align: middle;\n",
              "    }\n",
              "\n",
              "    .dataframe tbody tr th {\n",
              "        vertical-align: top;\n",
              "    }\n",
              "\n",
              "    .dataframe thead th {\n",
              "        text-align: right;\n",
              "    }\n",
              "</style>\n",
              "<table border=\"1\" class=\"dataframe\">\n",
              "  <thead>\n",
              "    <tr style=\"text-align: right;\">\n",
              "      <th></th>\n",
              "      <th>support</th>\n",
              "      <th>itemsets</th>\n",
              "    </tr>\n",
              "  </thead>\n",
              "  <tbody>\n",
              "    <tr>\n",
              "      <th>0</th>\n",
              "      <td>0.001707</td>\n",
              "      <td>(14)</td>\n",
              "    </tr>\n",
              "    <tr>\n",
              "      <th>1</th>\n",
              "      <td>0.003925</td>\n",
              "      <td>(185)</td>\n",
              "    </tr>\n",
              "    <tr>\n",
              "      <th>2</th>\n",
              "      <td>0.001792</td>\n",
              "      <td>(244)</td>\n",
              "    </tr>\n",
              "    <tr>\n",
              "      <th>3</th>\n",
              "      <td>0.001451</td>\n",
              "      <td>(264)</td>\n",
              "    </tr>\n",
              "    <tr>\n",
              "      <th>4</th>\n",
              "      <td>0.001024</td>\n",
              "      <td>(299)</td>\n",
              "    </tr>\n",
              "  </tbody>\n",
              "</table>\n",
              "</div>"
            ],
            "text/plain": [
              "    support itemsets\n",
              "0  0.001707     (14)\n",
              "1  0.003925    (185)\n",
              "2  0.001792    (244)\n",
              "3  0.001451    (264)\n",
              "4  0.001024    (299)"
            ]
          },
          "metadata": {
            "tags": []
          },
          "execution_count": 87
        }
      ]
    },
    {
      "cell_type": "code",
      "metadata": {
        "id": "tCnRCR5QrClo",
        "colab": {
          "base_uri": "https://localhost:8080/",
          "height": 107
        },
        "outputId": "d4889359-5e97-4d55-f97c-ccfebd03d390"
      },
      "source": [
        "#Here we define a dataframe with the rules we've found\n",
        "rules = association_rules(frq_items, metric=\"confidence\", min_threshold=0.01)\n",
        "rules.head()"
      ],
      "execution_count": null,
      "outputs": [
        {
          "output_type": "execute_result",
          "data": {
            "text/html": [
              "<div>\n",
              "<style scoped>\n",
              "    .dataframe tbody tr th:only-of-type {\n",
              "        vertical-align: middle;\n",
              "    }\n",
              "\n",
              "    .dataframe tbody tr th {\n",
              "        vertical-align: top;\n",
              "    }\n",
              "\n",
              "    .dataframe thead th {\n",
              "        text-align: right;\n",
              "    }\n",
              "</style>\n",
              "<table border=\"1\" class=\"dataframe\">\n",
              "  <thead>\n",
              "    <tr style=\"text-align: right;\">\n",
              "      <th></th>\n",
              "      <th>antecedents</th>\n",
              "      <th>consequents</th>\n",
              "      <th>antecedent support</th>\n",
              "      <th>consequent support</th>\n",
              "      <th>support</th>\n",
              "      <th>confidence</th>\n",
              "      <th>lift</th>\n",
              "      <th>leverage</th>\n",
              "      <th>conviction</th>\n",
              "    </tr>\n",
              "  </thead>\n",
              "  <tbody>\n",
              "    <tr>\n",
              "      <th>0</th>\n",
              "      <td>(11484)</td>\n",
              "      <td>(5436)</td>\n",
              "      <td>0.003584</td>\n",
              "      <td>0.006827</td>\n",
              "      <td>0.003072</td>\n",
              "      <td>0.857143</td>\n",
              "      <td>125.560714</td>\n",
              "      <td>0.003047</td>\n",
              "      <td>6.952214</td>\n",
              "    </tr>\n",
              "    <tr>\n",
              "      <th>1</th>\n",
              "      <td>(5436)</td>\n",
              "      <td>(11484)</td>\n",
              "      <td>0.006827</td>\n",
              "      <td>0.003584</td>\n",
              "      <td>0.003072</td>\n",
              "      <td>0.450000</td>\n",
              "      <td>125.560714</td>\n",
              "      <td>0.003047</td>\n",
              "      <td>1.811666</td>\n",
              "    </tr>\n",
              "  </tbody>\n",
              "</table>\n",
              "</div>"
            ],
            "text/plain": [
              "  antecedents consequents  antecedent support  ...        lift  leverage  conviction\n",
              "0     (11484)      (5436)            0.003584  ...  125.560714  0.003047    6.952214\n",
              "1      (5436)     (11484)            0.006827  ...  125.560714  0.003047    1.811666\n",
              "\n",
              "[2 rows x 9 columns]"
            ]
          },
          "metadata": {
            "tags": []
          },
          "execution_count": 88
        }
      ]
    },
    {
      "cell_type": "markdown",
      "metadata": {
        "id": "by0u1XxmrIuC"
      },
      "source": [
        "### The Outcome\n",
        "Upon Analysing the ruleset above there is a clear relationship between itemsets 11484 and 5436, this ruleset can be applied to when a user has shown interest in either itemsets"
      ]
    },
    {
      "cell_type": "markdown",
      "metadata": {
        "id": "PJwy3y7Aj-pq"
      },
      "source": [
        "##Hybrid Recommender System"
      ]
    },
    {
      "cell_type": "markdown",
      "metadata": {
        "id": "isZEyzDiy_u_"
      },
      "source": [
        "### Lightfm"
      ]
    },
    {
      "cell_type": "markdown",
      "metadata": {
        "id": "kV7O2lp1zDE6"
      },
      "source": [
        "What is lightfm?\n",
        "LightFM is a Python implementation of a number of popular recommendation algorithms for both implicit and explicit feedback. (Lightfm, 2021)\n",
        "\n",
        "Why did we use it?\n",
        "We chose to use lightfm not only because of its hybrid capabilities but also because of the fact that it allows you to use normal user-item interactions for making predictions for known users. This is crucial as since we had no formal ratings for items, we could still generate recommendations based of these interactions. Since  we only have implicit feedback (Jawaheer, et al., 2010) from the users lightfm’s flexibility in this regard is useful (Lightfm, 2021).  "
      ]
    },
    {
      "cell_type": "markdown",
      "metadata": {
        "id": "9uf8R-bWJqmt"
      },
      "source": [
        "### The goal"
      ]
    },
    {
      "cell_type": "markdown",
      "metadata": {
        "id": "IM35MsWOasnL"
      },
      "source": [
        "Hybrid recommender systems combine two or more recommendation strategies in different ways to benefit from their complementary advantages. A real world example of a hybrid recommender is netflix (Burke, 2002). By accounting for all events surrounding an item and user we can then accurately predict what items are likely to be purchased by a user and therefore recommend them.\n",
        "\n"
      ]
    },
    {
      "cell_type": "markdown",
      "metadata": {
        "id": "ZlD9hafkLLo4"
      },
      "source": [
        "### The code"
      ]
    },
    {
      "cell_type": "code",
      "metadata": {
        "id": "Sc9gTD0m7MZr",
        "colab": {
          "base_uri": "https://localhost:8080/",
          "height": 197
        },
        "outputId": "289ce8c7-f647-4716-f8a2-84471436661a"
      },
      "source": [
        "# Format the timestamp as a date and arrange it in chronological order.\n",
        "events = data_events.assign(date=pd.Series(datetime.datetime.fromtimestamp(i/1000).date() for i in data_events.timestamp))\n",
        "events = events[['visitorid','itemid','event','date']]\n",
        "events = events.sort_values(by=['date']).reset_index(drop=True)\n",
        "events.head()\n"
      ],
      "execution_count": null,
      "outputs": [
        {
          "output_type": "execute_result",
          "data": {
            "text/html": [
              "<div>\n",
              "<style scoped>\n",
              "    .dataframe tbody tr th:only-of-type {\n",
              "        vertical-align: middle;\n",
              "    }\n",
              "\n",
              "    .dataframe tbody tr th {\n",
              "        vertical-align: top;\n",
              "    }\n",
              "\n",
              "    .dataframe thead th {\n",
              "        text-align: right;\n",
              "    }\n",
              "</style>\n",
              "<table border=\"1\" class=\"dataframe\">\n",
              "  <thead>\n",
              "    <tr style=\"text-align: right;\">\n",
              "      <th></th>\n",
              "      <th>visitorid</th>\n",
              "      <th>itemid</th>\n",
              "      <th>event</th>\n",
              "      <th>date</th>\n",
              "    </tr>\n",
              "  </thead>\n",
              "  <tbody>\n",
              "    <tr>\n",
              "      <th>0</th>\n",
              "      <td>689859</td>\n",
              "      <td>421640</td>\n",
              "      <td>view</td>\n",
              "      <td>2015-05-03</td>\n",
              "    </tr>\n",
              "    <tr>\n",
              "      <th>1</th>\n",
              "      <td>935582</td>\n",
              "      <td>203248</td>\n",
              "      <td>view</td>\n",
              "      <td>2015-05-03</td>\n",
              "    </tr>\n",
              "    <tr>\n",
              "      <th>2</th>\n",
              "      <td>696326</td>\n",
              "      <td>194830</td>\n",
              "      <td>view</td>\n",
              "      <td>2015-05-03</td>\n",
              "    </tr>\n",
              "    <tr>\n",
              "      <th>3</th>\n",
              "      <td>131668</td>\n",
              "      <td>395045</td>\n",
              "      <td>view</td>\n",
              "      <td>2015-05-03</td>\n",
              "    </tr>\n",
              "    <tr>\n",
              "      <th>4</th>\n",
              "      <td>595484</td>\n",
              "      <td>129111</td>\n",
              "      <td>view</td>\n",
              "      <td>2015-05-03</td>\n",
              "    </tr>\n",
              "  </tbody>\n",
              "</table>\n",
              "</div>"
            ],
            "text/plain": [
              "   visitorid  itemid event        date\n",
              "0     689859  421640  view  2015-05-03\n",
              "1     935582  203248  view  2015-05-03\n",
              "2     696326  194830  view  2015-05-03\n",
              "3     131668  395045  view  2015-05-03\n",
              "4     595484  129111  view  2015-05-03"
            ]
          },
          "metadata": {
            "tags": []
          },
          "execution_count": 89
        }
      ]
    },
    {
      "cell_type": "markdown",
      "metadata": {
        "id": "LpwqFggDWrre"
      },
      "source": [
        "Since the dataset is very large, we're only going to use the data over a 2 week span to reduce the time it takes to compute"
      ]
    },
    {
      "cell_type": "code",
      "metadata": {
        "id": "nr0qF6LAWoU2"
      },
      "source": [
        "start_date = '2015-5-3'\n",
        "end_date = '2015-5-18'\n",
        "fd = lambda x: datetime.datetime.strptime(x, '%Y-%m-%d').date()\n",
        "events = events[(events.date >= fd(start_date)) & (events.date <= fd(end_date))]"
      ],
      "execution_count": null,
      "outputs": []
    },
    {
      "cell_type": "code",
      "metadata": {
        "id": "AzxTsyESRrDJ"
      },
      "source": [
        "# Divide training sets and test sets\n",
        "split_point = np.int(np.round(events.shape[0]*0.8))\n",
        "events_train = events.iloc[0:split_point]\n",
        "events_test = events.iloc[split_point::]\n",
        "events_test = events_test[(events_test['visitorid'].isin(events_train['visitorid'])) & (events_test['itemid'].isin(events_train['itemid']))]"
      ],
      "execution_count": null,
      "outputs": []
    },
    {
      "cell_type": "code",
      "metadata": {
        "id": "x_njpBuqXpm3"
      },
      "source": [
        "id_cols=['visitorid','itemid']\n",
        "trans_cat_train=dict()\n",
        "trans_cat_test=dict()\n",
        "\n",
        "for k in id_cols:\n",
        "    cate_enc=preprocessing.LabelEncoder()\n",
        "    trans_cat_train[k]=cate_enc.fit_transform(events_train[k].values)\n",
        "    trans_cat_test[k]=cate_enc.transform(events_test[k].values)"
      ],
      "execution_count": null,
      "outputs": []
    },
    {
      "cell_type": "code",
      "metadata": {
        "id": "_k98tQgzXraV"
      },
      "source": [
        "ratings = dict()\n",
        "#Generating the ratings for each user-item interaction pair\n",
        "cate_enc=preprocessing.LabelEncoder()\n",
        "ratings['train'] = cate_enc.fit_transform(events_train.event)\n",
        "ratings['test'] = cate_enc.transform(events_test.event)"
      ],
      "execution_count": null,
      "outputs": []
    },
    {
      "cell_type": "code",
      "metadata": {
        "id": "x5J1wbWNXtA2"
      },
      "source": [
        "n_users=len(np.unique(trans_cat_train['visitorid']))\n",
        "n_items=len(np.unique(trans_cat_train['itemid']))"
      ],
      "execution_count": null,
      "outputs": []
    },
    {
      "cell_type": "code",
      "metadata": {
        "id": "-MGi8IjhXvOd"
      },
      "source": [
        "#Creating the rating spare matrix using both the test and train ratings \n",
        "rate_matrix = dict()\n",
        "rate_matrix['train'] = coo_matrix((ratings['train'], (trans_cat_train['visitorid'], trans_cat_train['itemid'])), shape=(n_users,n_items))\n",
        "rate_matrix['test'] = coo_matrix((ratings['test'], (trans_cat_test['visitorid'], trans_cat_test['itemid'])), shape=(n_users,n_items))"
      ],
      "execution_count": null,
      "outputs": []
    },
    {
      "cell_type": "code",
      "metadata": {
        "id": "6sZJVJHgXw8E",
        "colab": {
          "base_uri": "https://localhost:8080/"
        },
        "outputId": "1b1b8629-4bb2-4a71-d81b-e99f25cc6b17"
      },
      "source": [
        "model = LightFM(no_components=5, loss='warp')\n",
        "model.fit(rate_matrix['train'], epochs=100, num_threads=8)"
      ],
      "execution_count": null,
      "outputs": [
        {
          "output_type": "execute_result",
          "data": {
            "text/plain": [
              "<lightfm.lightfm.LightFM at 0x7fe846b25750>"
            ]
          },
          "metadata": {
            "tags": []
          },
          "execution_count": 96
        }
      ]
    },
    {
      "cell_type": "code",
      "metadata": {
        "id": "NfEHoPEbQdA0",
        "colab": {
          "base_uri": "https://localhost:8080/"
        },
        "outputId": "cb384855-1ea2-4749-e4a2-007bba713303"
      },
      "source": [
        "#Getting recommendation from the model\n",
        "\n",
        "df = events[['itemid']]\n",
        "items = df.to_numpy()\n",
        "def sample_recommendation(model, data, user_ids):\n",
        "\n",
        "    #number of users and movies in training data\n",
        "    n_users, n_items = data.shape\n",
        "\n",
        "    #generate recommendations for each user we input\n",
        "    for user_id in user_ids:\n",
        "\n",
        "        #movies our model predicts they will like\n",
        "        scores = model.predict(user_id, np.arange(n_items))\n",
        "\n",
        "        #rank them in order of most liked to least\n",
        "        top_items = items[np.argsort(-scores)][:3]\n",
        "\n",
        "        print(top_items)\n",
        "\n",
        "sample_recommendation(model, rate_matrix['train'], [1])"
      ],
      "execution_count": null,
      "outputs": [
        {
          "output_type": "stream",
          "text": [
            "[[194010]\n",
            " [300325]\n",
            " [325073]]\n"
          ],
          "name": "stdout"
        }
      ]
    },
    {
      "cell_type": "markdown",
      "metadata": {
        "id": "b7rd71BULQOr"
      },
      "source": [
        "### The Outcome\n",
        "From the function above we can display a number of items which would be desirable to users, this is achieved by giving each user-item interaction pair a score within a rating matrix and then selecting any given user and printing the top 3 scoring items."
      ]
    },
    {
      "cell_type": "markdown",
      "metadata": {
        "id": "oKx2MfRToOQ2"
      },
      "source": [
        "#Evaluation - subtask4"
      ]
    },
    {
      "cell_type": "markdown",
      "metadata": {
        "id": "y6GTEscurr-a"
      },
      "source": [
        "##Apriori"
      ]
    },
    {
      "cell_type": "code",
      "metadata": {
        "id": "IJzrEmDcs8SN",
        "colab": {
          "base_uri": "https://localhost:8080/",
          "height": 107
        },
        "outputId": "a19ace61-7dc1-4228-8f8e-9a5d0742059a"
      },
      "source": [
        "rules.head()"
      ],
      "execution_count": null,
      "outputs": [
        {
          "output_type": "execute_result",
          "data": {
            "text/html": [
              "<div>\n",
              "<style scoped>\n",
              "    .dataframe tbody tr th:only-of-type {\n",
              "        vertical-align: middle;\n",
              "    }\n",
              "\n",
              "    .dataframe tbody tr th {\n",
              "        vertical-align: top;\n",
              "    }\n",
              "\n",
              "    .dataframe thead th {\n",
              "        text-align: right;\n",
              "    }\n",
              "</style>\n",
              "<table border=\"1\" class=\"dataframe\">\n",
              "  <thead>\n",
              "    <tr style=\"text-align: right;\">\n",
              "      <th></th>\n",
              "      <th>antecedents</th>\n",
              "      <th>consequents</th>\n",
              "      <th>antecedent support</th>\n",
              "      <th>consequent support</th>\n",
              "      <th>support</th>\n",
              "      <th>confidence</th>\n",
              "      <th>lift</th>\n",
              "      <th>leverage</th>\n",
              "      <th>conviction</th>\n",
              "    </tr>\n",
              "  </thead>\n",
              "  <tbody>\n",
              "    <tr>\n",
              "      <th>0</th>\n",
              "      <td>(11484)</td>\n",
              "      <td>(5436)</td>\n",
              "      <td>0.003584</td>\n",
              "      <td>0.006827</td>\n",
              "      <td>0.003072</td>\n",
              "      <td>0.857143</td>\n",
              "      <td>125.560714</td>\n",
              "      <td>0.003047</td>\n",
              "      <td>6.952214</td>\n",
              "    </tr>\n",
              "    <tr>\n",
              "      <th>1</th>\n",
              "      <td>(5436)</td>\n",
              "      <td>(11484)</td>\n",
              "      <td>0.006827</td>\n",
              "      <td>0.003584</td>\n",
              "      <td>0.003072</td>\n",
              "      <td>0.450000</td>\n",
              "      <td>125.560714</td>\n",
              "      <td>0.003047</td>\n",
              "      <td>1.811666</td>\n",
              "    </tr>\n",
              "  </tbody>\n",
              "</table>\n",
              "</div>"
            ],
            "text/plain": [
              "  antecedents consequents  antecedent support  ...        lift  leverage  conviction\n",
              "0     (11484)      (5436)            0.003584  ...  125.560714  0.003047    6.952214\n",
              "1      (5436)     (11484)            0.006827  ...  125.560714  0.003047    1.811666\n",
              "\n",
              "[2 rows x 9 columns]"
            ]
          },
          "metadata": {
            "tags": []
          },
          "execution_count": 98
        }
      ]
    },
    {
      "cell_type": "markdown",
      "metadata": {
        "id": "pBG6K3zArtmp"
      },
      "source": [
        "The outcome of the aprori algorithm shows that our data is very sparse, since there are so many items the algorithm doesn't return many results with a support value greater than 0.001. The support value shows the \"fraction of transactions that contain an itemset\" (Chonyy, 2020). What this means is that the majority of instances there won't be a ruleset applicable to a user and although the confidence for this ruleset is relatively high, it isn’t extremely useful since only a fraction of the items are covered by it."
      ]
    },
    {
      "cell_type": "markdown",
      "metadata": {
        "id": "7VjbjB2QoNYv"
      },
      "source": [
        "##Hybrid Recommender"
      ]
    },
    {
      "cell_type": "markdown",
      "metadata": {
        "id": "AeB2fhPDaH13"
      },
      "source": [
        "###Evaluating Using AUC"
      ]
    },
    {
      "cell_type": "markdown",
      "metadata": {
        "id": "2L57-Yxrcf2o"
      },
      "source": [
        "The goal is to evaluate the performance of our hybrid recommendation model created through lightfm. To do so we will be using AUC. AUC stands for \"Area under the ROC Curve.\" AUC provides an aggregate measure of performance across all possible classification thresholds. One way of interpreting AUC is as the probability that the model ranks a random positive example more highly than a random negative example (Machine Learning Crash Course, 2021). Essentially AUC is the measure of the ability of a classifier to distinguish between classes and is used as a summary of the ROC curve. The  higher the AUC, the better the performance of the model at distinguishing between the positive and negative classes."
      ]
    },
    {
      "cell_type": "markdown",
      "metadata": {
        "id": "s0vUHZhyaK1G"
      },
      "source": [
        "####The code"
      ]
    },
    {
      "cell_type": "code",
      "metadata": {
        "id": "_BQe9CGPX4Bk",
        "colab": {
          "base_uri": "https://localhost:8080/"
        },
        "outputId": "19be6564-e57e-4549-d03e-1f6a75696a99"
      },
      "source": [
        "auc_train = auc_score(model, rate_matrix['train'], num_threads=8).mean()\n",
        "auc_test = auc_score(model, rate_matrix['test'], num_threads=8).mean()\n",
        "\n",
        "print(\"Train AUC %.3f\\n\"%auc_train)\n",
        "print(\"Test AUC %.3f\\n\"%auc_test)"
      ],
      "execution_count": null,
      "outputs": [
        {
          "output_type": "stream",
          "text": [
            "Train AUC 0.984\n",
            "\n",
            "Test AUC 0.816\n",
            "\n"
          ],
          "name": "stdout"
        }
      ]
    },
    {
      "cell_type": "markdown",
      "metadata": {
        "id": "J0e4QqXUhgGQ"
      },
      "source": [
        "####The outcome"
      ]
    },
    {
      "cell_type": "markdown",
      "metadata": {
        "id": "TW0bHVHrXk88"
      },
      "source": [
        "We can see that both the test and train AUC is quite high (max being 1), meaning that our model is successful establishing the probability of an item being purchased by a given user. Consequently, since our AUC is close to 1.0 it suggests that, by and large, our ranking order is correct."
      ]
    },
    {
      "cell_type": "markdown",
      "metadata": {
        "id": "oUZlMzF-i6T5"
      },
      "source": [
        "###Evaluating Using Precision at K"
      ]
    },
    {
      "cell_type": "markdown",
      "metadata": {
        "id": "o6-X6QJ5i8KU"
      },
      "source": [
        "The next step is analyse the precision of the recommendations, this is completed using precision at k, \"Precision at k is the proportion of recommended items in the top-k set that are relevant\" (Maher Malaeb, 2017). K is a user define number which takes the top values for each user."
      ]
    },
    {
      "cell_type": "markdown",
      "metadata": {
        "id": "wKWRq7uAkv2F"
      },
      "source": [
        "####The code"
      ]
    },
    {
      "cell_type": "code",
      "metadata": {
        "id": "KdWmoZtqd8Ra"
      },
      "source": [
        "precision_at_k_train = precision_at_k(model, rate_matrix['train'], k = 3, num_threads=8).mean()\n",
        "precision_at_k_test = precision_at_k(model, rate_matrix['test'], k = 3, num_threads=8).mean()"
      ],
      "execution_count": null,
      "outputs": []
    },
    {
      "cell_type": "code",
      "metadata": {
        "colab": {
          "base_uri": "https://localhost:8080/"
        },
        "id": "M4pFN2sSals0",
        "outputId": "b31d1277-cee5-49d9-a6ec-3005baba3e8d"
      },
      "source": [
        "print(\"Train precision@k %.3f\\n\"%precision_at_k_train)\n",
        "print(\"Test precision@k %.3f\\n\"%precision_at_k_test)"
      ],
      "execution_count": null,
      "outputs": [
        {
          "output_type": "stream",
          "text": [
            "Train precision@k 0.012\n",
            "\n",
            "Test precision@k 0.011\n",
            "\n"
          ],
          "name": "stdout"
        }
      ]
    },
    {
      "cell_type": "markdown",
      "metadata": {
        "id": "Yn0csTE9kqjV"
      },
      "source": [
        "####The outcome "
      ]
    },
    {
      "cell_type": "markdown",
      "metadata": {
        "id": "x5f39btClBEn"
      },
      "source": [
        "It should be noted at this point since we're calculating the mean of the precision if a user has a negative value as one of the item recommendations scores this could severely lower the average. With this in mind we can see quite a low precision but given the massive number of users and looking at the similiarist in scores between the train and test rating matrices, this could be overlooked. Also, seeing at the AUC is so high the recommendations are likely quite accurate."
      ]
    },
    {
      "cell_type": "markdown",
      "metadata": {
        "id": "zF-mZ-h2jasa"
      },
      "source": [
        "#Conclusion"
      ]
    },
    {
      "cell_type": "markdown",
      "metadata": {
        "id": "mTGQ0WTp06Pt"
      },
      "source": [
        "**Outcomes:**\n",
        "* \tData exploration - In this phase we found empty parentid’s, that the events would have to be split into different dataframes and that there were Unix timestamps.\n",
        "\n",
        "*   Pre-processing - Item properties had to be merged, timestamps converted and the previously mentioned creation of separate dataframes was done.\n",
        "* \tVisualization - Multiple graphs and charts were made to help understand and digest the data.\n",
        "\n",
        "*   Customer behaviour analysis - The user of charts, mainly the pairplot, was used to analyse customer behaviour. This helped us to understand the behaviour and find patterns.\n",
        "\n",
        "*   Customer Segmentation - This helped us discover that the user is most likely to have already made the decision on what they are going to buy before even looking at the item catalog.\n",
        "\n",
        "*   Build a shopping recommender system -\tDuring this phase multiple recommenders were created, each give a different outcome and recommendation which can be very useful for the user.\n",
        "\n",
        "*   Evaluate the recommender system - We chose the evaluate Apriori using AUC and Precision at K, which came back saying that the recommender system was quite accurate. \n",
        "\n",
        "Overall, we met the outcomes we expect to reach, showing multiple ways of doing each of the tasks in a lot of cases. The project went relatively smoothly and there were no major issues. There were problems at points but once we had figured out how to fix the issue then that code or fix would be reusable further down the project. We feel that the code and documentation of the code is good and fits the flow. With each segment being explained before hand and after, some even during. The graphs that have been selected are fit for purpose and well explained. The outcome of each section is clearly defined and explained in detail as well and a great deal of work has been put into the whole project. The communication in the group was good, as a group chat was set up as soon as we knew the members of the group."
      ]
    },
    {
      "cell_type": "markdown",
      "metadata": {
        "id": "Wyqd6HL5j5rp"
      },
      "source": [
        "#REFERENCES\n",
        "Li, D., Zhang, B. and Li, C., 2015. A feature-scaling-based $ k $-nearest neighbor algorithm for indoor positioning systems. IEEE Internet of Things Journal, 3(4), pp.590-597.\n",
        "\n",
        "RetailRocket, 2017. Retailrocket recommender system dataset (v4). [Online] \n",
        "Available at: https://www.kaggle.com/retailrocket/ecommerce-dataset\n",
        "[Accessed 18 04 2021].\n",
        "\n",
        "Machine Learning Crash Course, 2021. Classification: ROC Curve and AUC. [Online] \n",
        "Available at: https://developers.google.com/machine-learning/crash-course/classification/roc-and-auc#:~:text=AUC%20(Area%20under%20the%20ROC,than%20a%20random%20negative%20example.\n",
        "[Accessed 19 04 2021].\n",
        "\n",
        "\n",
        "Grinstein, U.M.F.G.G. and Wierse, A., 2002. Information visualization in data mining and knowledge discovery. Morgan Kaufmann.\n",
        "\n",
        "Tanasa, D. and Trousse, B., 2004. Advanced data preprocessing for intersites web usage mining. IEEE Intelligent Systems, 19(2), pp.59-65.\n",
        "\n",
        "Geron, A. 2019, Hands-on Machine Learning with Scikit-Learn, Keras, and TensorFlow: Concepts, Tools, and Techniques to Build Intelligent Systems, 2nd edn, O'Reilly, Cambridge.\n",
        "\n",
        "Chralton, G (2021) When Are People Most Likely to Buy Online? SaleCycle. Available from: https://www.salecycle.com/blog/stats/when-are-people-most-likely-to-buy-online/#:~:text=Mondays%20and%20Thursdays%20are%20the,occurs%20between%208pm%20and%209pm. [Accessed 19 04 2021].\n",
        "\n",
        "Burke, R., 2002. Hybrid Recommender Systems: Survey and Experiments. User Modeling and User-Adapted Interaction, 12(1), p. 331–370.\n",
        "\n",
        "Maher Malaeb, 2017. Recall and Precision at k for Recommender Systems. [Online] \n",
        "Available at: https://medium.com/@m_n_malaeb/recall-and-precision-at-k-for-recommender-systems-618483226c54#:~:text=Precision%20at%20k%20is%20the,are%20relevant%20to%20the%20user.\n",
        "[Accessed 21 April 2021].\n",
        "\n",
        "Chonyy, 2020. Apriori: Association Rule Mining In-depth Explanation and Python Implementation. [Online] \n",
        "Available at: https://towardsdatascience.com/apriori-association-rule-mining-explanation-and-python-implementation-290b42afdfc6\n",
        "[Accessed 04 April 2021].\n",
        "\n",
        "Shopify, 2020. Customer Segmentation. Encyclopedia. Available from https://www.shopify.com/encyclopedia/customer-segmentation\n",
        "[Accessed 04 April 2021].\n",
        "\n",
        "Lightfm, 2021. Welcome to LightFM’s documentation!. [Online] \n",
        "Available at: https://making.lyst.com/lightfm/docs/home.html#\n",
        "[Accessed 20 04 2021].\n",
        "\n",
        "Jawaheer, G., Szomszor, M. & Kostkova, P., 2010. Comparison of Implicit and Explicit Feedback from an Online Music Recommendation Service, London: CeRC, City University London.\n",
        "\n",
        "Schafer, J. B., Frankowski, D., Herlocker, J. & Sen, S., 2007. Collaborative Filtering Recommender Systems. The Adaptive Web, 4321(1), pp. 291-324.\n",
        "\n",
        "\n",
        "Meteren, R. v. & Someren, M. v., 2013. Using Content-Based Filtering for Recommendation. Gerard Brandtstraat, 1054(1), pp. 26-28.\n",
        "\n",
        "Agrawal, R. & Srikant, R., 2001. Fast Algorithms for Mining Association Rules, San Jose: IBM Almaden Research Center .\n",
        "\n"
      ]
    }
  ]
}